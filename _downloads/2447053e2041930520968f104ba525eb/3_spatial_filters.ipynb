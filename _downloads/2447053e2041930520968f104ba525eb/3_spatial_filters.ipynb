{
  "cells": [
    {
      "cell_type": "markdown",
      "metadata": {},
      "source": [
        "\n# Applying Spatial Filters to EMG Data\n\nThis example demonstrates how to use spatial filters on EMG data using MyoVerse.\nWe will showcase differential filters that help enhance spatial patterns in EMG signals.\n"
      ]
    },
    {
      "cell_type": "code",
      "execution_count": null,
      "metadata": {
        "collapsed": false
      },
      "outputs": [],
      "source": [
        "import numpy as np\nimport os\nimport pickle as pkl\nimport matplotlib.pyplot as plt\n\nfrom myoverse.datatypes import EMGData\nfrom myoverse.datasets.filters.spatial import DifferentialSpatialFilter, ApplyFunctionSpatialFilter\n\n\ndef plot_grids(data, grid_layouts, title, vmin=None, vmax=None):\n    \"\"\"Helper function to plot EMG data on grids.\"\"\"\n    n_grids = len(grid_layouts)\n    fig, axes = plt.subplots(1, n_grids, figsize=(5 * n_grids, 5))\n    if n_grids == 1:\n        axes = [axes]  # Make it iterable if only one grid\n\n    processed_channels = 0\n    for i, grid_layout in enumerate(grid_layouts):\n        rows, cols = grid_layout.shape\n        n_channels_grid = rows * cols\n        # Ensure we only try to access existing data\n        end_channel = processed_channels + n_channels_grid\n        grid_data_flat = data[processed_channels : min(end_channel, len(data))]\n\n        # Create an empty grid filled with NaNs\n        plot_grid = np.full(grid_layout.shape, np.nan)\n\n        # Fill the grid with data based on layout indices (relative to grid start)\n        min_channel_index = np.min(grid_layout)\n        for r in range(rows):\n            for c in range(cols):\n                channel_index_abs = grid_layout[r, c]\n                channel_index_rel = channel_index_abs - min_channel_index\n                # Check if the relative index corresponds to a valid index in the flattened grid data\n                if 0 <= channel_index_rel < len(grid_data_flat):\n                    plot_grid[r, c] = grid_data_flat[channel_index_rel]\n\n        min_val = np.nanmin(plot_grid)\n        max_val = np.nanmax(plot_grid)\n\n        im = axes[i].imshow(\n            plot_grid,\n            cmap=\"magma\",\n            vmin=min_val,\n            vmax=max_val,\n            origin=\"lower\",\n            interpolation=\"nearest\",\n        )\n        axes[i].set_title(f\"Grid {i}\\nShape: {rows}x{cols}\")\n        axes[i].set_xticks(np.arange(cols))\n        axes[i].set_yticks(np.arange(rows))\n\n        # add colorbar\n        cbar = plt.colorbar(im, ax=axes[i])\n\n        # Add channel numbers as text\n        for r in range(rows):\n            for c in range(cols):\n                channel_index_abs = grid_layout[r, c]\n                # Determine text color based on background brightness\n                if not np.isnan(plot_grid[r, c]):\n                    bg_val_norm = (plot_grid[r, c] - min_val) / (\n                        max_val - min_val + 1e-6\n                    )  # Normalize to 0-1\n                    text_color = \"white\" if bg_val_norm < 0.5 else \"black\"\n                    axes[i].text(\n                        c,\n                        r,\n                        str(channel_index_abs),\n                        ha=\"center\",\n                        va=\"center\",\n                        color=text_color,\n                    )\n\n        processed_channels += n_channels_grid\n\n    fig.suptitle(title)\n    plt.tight_layout(rect=[0, 0.03, 1, 0.95])  # Adjust layout to prevent title overlap\n    return fig, axes"
      ]
    },
    {
      "cell_type": "markdown",
      "metadata": {},
      "source": [
        "## Loading EMG Data\n\nWe create data with two grids: an 8x8 grid and a 4x4 grid.\n\n"
      ]
    },
    {
      "cell_type": "code",
      "execution_count": null,
      "metadata": {
        "collapsed": false
      },
      "outputs": [],
      "source": [
        "data_path = os.path.join(\"..\", \"data\", \"emg.pkl\")\n\n# Load the raw data once\nwith open(data_path, \"rb\") as f:\n    raw_data = pkl.load(f)[\"1\"][: 8 * 8 + 4 * 4]\n    sampling_frequency = 2048\n    grid_layouts_orig = [np.arange(64).reshape(8, 8), np.arange(64, 80).reshape(4, 4)]"
      ]
    },
    {
      "cell_type": "markdown",
      "metadata": {},
      "source": [
        "## Normal Double Differential (NDD) Filter\n\nThe NDD filter (also known as Laplacian filter) computes differences between\nadjacent electrodes in a cross pattern. It enhances local spatial patterns and\nreduces common noise.\n\n"
      ]
    },
    {
      "cell_type": "code",
      "execution_count": null,
      "metadata": {
        "collapsed": false
      },
      "outputs": [],
      "source": [
        "# Create a new EMG object for NDD filter\nemg_ndd = EMGData(\n    raw_data.copy(),\n    sampling_frequency=sampling_frequency,\n    grid_layouts=[g.copy() for g in grid_layouts_orig],\n)\n\nndd_filter = DifferentialSpatialFilter(\n    filter_name=\"NDD\",\n    input_is_chunked=False,  # Our data is (channels, time)\n    grids_to_process=\"all\",\n    name=\"NDD\",\n)\n\n_ = emg_ndd.apply_filter(ndd_filter, representations_to_filter=[\"Input\"])\n\nndd_rms = np.sqrt(np.mean(emg_ndd[\"NDD\"] ** 2, axis=1))\nfig_ndd, _ = plot_grids(\n    ndd_rms,\n    emg_ndd.grid_layouts,\n    \"NDD Filter (All Grids, RMS)\",\n    vmin=np.min(ndd_rms),\n    vmax=np.max(ndd_rms),\n)\nplt.show()\n\nprint(f\"Shape after NDD filter: {emg_ndd['NDD'].shape}\")\nprint(f\"Grid layouts after NDD filter: {[g.shape for g in emg_ndd.grid_layouts]}\")"
      ]
    },
    {
      "cell_type": "markdown",
      "metadata": {},
      "source": [
        "## Longitudinal Single Differential (LSD) Filter\n\nThe LSD filter computes differences between adjacent electrodes along columns.\nHere we apply it only to the first grid (Grid 0).\n\n"
      ]
    },
    {
      "cell_type": "code",
      "execution_count": null,
      "metadata": {
        "collapsed": false
      },
      "outputs": [],
      "source": [
        "# Create a new EMG object for LSD filter\nemg_lsd = EMGData(\n    raw_data.copy(),\n    sampling_frequency=sampling_frequency,\n    grid_layouts=[g.copy() for g in grid_layouts_orig],\n)\n\nlsd_filter = DifferentialSpatialFilter(\n    filter_name=\"LSD\",\n    input_is_chunked=False,\n    name=\"LSD\",\n)\n\n_ = emg_lsd.apply_filter(lsd_filter, representations_to_filter=[\"Input\"])\n\nlsd_rms = np.sqrt(np.mean(emg_lsd[\"LSD\"] ** 2, axis=1))\nfig_lsd, _ = plot_grids(\n    lsd_rms,\n    emg_lsd.grid_layouts,\n    \"LSD Filter (Grid 0 Only, RMS)\",\n    vmin=np.min(lsd_rms),\n    vmax=np.max(lsd_rms),\n)\nplt.show()\n\nprint(f\"Shape after LSD filter: {emg_lsd['LSD'].shape}\")\nprint(f\"Grid layouts after LSD filter: {[g.shape for g in emg_lsd.grid_layouts]}\")"
      ]
    },
    {
      "cell_type": "markdown",
      "metadata": {},
      "source": [
        "## Transverse Single Differential (TSD) Filter\n\nThe TSD filter computes differences between adjacent electrodes along rows.\nThis filter emphasizes activity changes in the transverse direction.\n\n"
      ]
    },
    {
      "cell_type": "code",
      "execution_count": null,
      "metadata": {
        "collapsed": false
      },
      "outputs": [],
      "source": [
        "# Create a new EMG object for TSD filter\nemg_tsd = EMGData(\n    raw_data.copy(),\n    sampling_frequency=sampling_frequency,\n    grid_layouts=[g.copy() for g in grid_layouts_orig],\n)\n\ntsd_filter = DifferentialSpatialFilter(\n    filter_name=\"TSD\", \n    input_is_chunked=False, \n    grids_to_process=\"all\",\n    name=\"TSD\",\n)\n\n_ = emg_tsd.apply_filter(tsd_filter, representations_to_filter=[\"Input\"])\n\ntsd_rms = np.sqrt(np.mean(emg_tsd[\"TSD\"] ** 2, axis=1))\nfig_tsd, _ = plot_grids(\n    tsd_rms,\n    emg_tsd.grid_layouts,\n    \"TSD Filter (All Grids, RMS)\",\n    vmin=np.min(tsd_rms),\n    vmax=np.max(tsd_rms),\n)\nplt.show()\n\nprint(f\"Shape after TSD filter: {emg_tsd['TSD'].shape}\")\nprint(f\"Grid layouts after TSD filter: {[g.shape for g in emg_tsd.grid_layouts]}\")"
      ]
    },
    {
      "cell_type": "markdown",
      "metadata": {},
      "source": [
        "## Inverse Binomial (IB2) Filter\n\nThe IB2 filter is an inverse binomial filter of the 2nd order that applies\na more complex spatial weighting to enhance local activity patterns.\n\n"
      ]
    },
    {
      "cell_type": "code",
      "execution_count": null,
      "metadata": {
        "collapsed": false
      },
      "outputs": [],
      "source": [
        "# Create a new EMG object for IB2 filter\nemg_ib2 = EMGData(\n    raw_data.copy(),\n    sampling_frequency=sampling_frequency,\n    grid_layouts=[g.copy() for g in grid_layouts_orig],\n)\n\nib2_filter = DifferentialSpatialFilter(\n    filter_name=\"IB2\", \n    input_is_chunked=False, \n    grids_to_process=\"all\",\n    name=\"IB2\",\n)\n\n_ = emg_ib2.apply_filter(ib2_filter, representations_to_filter=[\"Input\"])\n\nib2_rms = np.sqrt(np.mean(emg_ib2[\"IB2\"] ** 2, axis=1))\nfig_ib2, _ = plot_grids(\n    ib2_rms,\n    emg_ib2.grid_layouts,\n    \"IB2 Filter (All Grids, RMS)\",\n    vmin=np.min(ib2_rms),\n    vmax=np.max(ib2_rms),\n)\nplt.show()\n\nprint(f\"Shape after IB2 filter: {emg_ib2['IB2'].shape}\")\nprint(f\"Grid layouts after IB2 filter: {[g.shape for g in emg_ib2.grid_layouts]}\")"
      ]
    },
    {
      "cell_type": "markdown",
      "metadata": {},
      "source": [
        "## Apply Function Spatial Filter\n\nThe Apply Function Spatial Filter allows us to apply custom functions to the EMG data.\nHere we use it to compute the mean across a 2x2 kernel with a stride of 2 in both dimensions.\n\n"
      ]
    },
    {
      "cell_type": "code",
      "execution_count": null,
      "metadata": {
        "collapsed": false
      },
      "outputs": [],
      "source": [
        "def mean_function(data):\n    \"\"\"Custom function to compute the mean across the last two dimensions.\n\n    data: numpy.ndarray\n        Input data to apply the function on. The shape should be (channels, time, height, width) if the input is chunked otherwise (time, height, width).\n\n        .. note:: The function must only modify the last two dimensions of the data and provide the same shape as output.\n    Returns:\n        numpy.ndarray: Mean of the input data across the last two dimensions.\n    \"\"\"\n    return np.mean(data, axis=(-1, -2), keepdims=True)\n\n# Create a new EMG object for Apply Function filter\nemg_apply_func = EMGData(\n    raw_data.copy(),\n    sampling_frequency=sampling_frequency,\n    grid_layouts=[g.copy() for g in grid_layouts_orig],\n)\napply_func_filter = ApplyFunctionSpatialFilter(\n    input_is_chunked=False,\n    grids_to_process=\"all\",\n    name=\"Apply Function\",\n    kernel_size=(2, 2),\n    padding=\"same\",\n    strides=(2, 2),\n    function=mean_function,\n)\n\n_ = emg_apply_func.apply_filter(\n    apply_func_filter, representations_to_filter=[\"Input\"]\n)\napply_func_rms = np.sqrt(np.mean(emg_apply_func[\"Apply Function\"] ** 2, axis=1))\n\nfig_apply_func, _ = plot_grids(\n    apply_func_rms,\n    emg_apply_func.grid_layouts,\n    \"Apply Function Filter (All Grids, RMS)\",\n    vmin=np.min(apply_func_rms),\n    vmax=np.max(apply_func_rms),\n)\nplt.show()\n\nprint(f\"Shape after Apply Function filter: {emg_apply_func['Apply Function'].shape}\")\nprint(f\"Grid layouts after Apply Function filter: {[g.shape for g in emg_apply_func.grid_layouts]}\")"
      ]
    }
  ],
  "metadata": {
    "kernelspec": {
      "display_name": "Python 3",
      "language": "python",
      "name": "python3"
    },
    "language_info": {
      "codemirror_mode": {
        "name": "ipython",
        "version": 3
      },
      "file_extension": ".py",
      "mimetype": "text/x-python",
      "name": "python",
      "nbconvert_exporter": "python",
      "pygments_lexer": "ipython3",
      "version": "3.12.8"
    }
  },
  "nbformat": 4,
  "nbformat_minor": 0
}