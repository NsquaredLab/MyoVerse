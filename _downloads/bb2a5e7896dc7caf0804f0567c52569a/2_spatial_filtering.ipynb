{
  "cells": [
    {
      "cell_type": "markdown",
      "metadata": {},
      "source": [
        "\n# Spatial Filtering with AveragingSpatialFilter\n\nThis example demonstrates how to use the AveragingSpatialFilter to perform\nspatial filtering on EMG grid data. Spatial filtering can help reduce spatial noise\nand extract directional information from multi-electrode recordings.\n\nWe'll cover:\n1. Creating synthetic EMG grid data\n2. Applying longitudinal spatial filtering (along columns)\n3. Applying transverse spatial filtering (along rows)\n4. Sequential filtering for 2D spatial averaging\n5. Using the shift parameter for directional sensitivity\n"
      ]
    },
    {
      "cell_type": "markdown",
      "metadata": {},
      "source": [
        "First, let's import the necessary libraries\n\n"
      ]
    },
    {
      "cell_type": "code",
      "execution_count": null,
      "metadata": {
        "collapsed": false
      },
      "outputs": [],
      "source": [
        "import numpy as np\nimport matplotlib.pyplot as plt\nfrom mpl_toolkits.axes_grid1 import make_axes_locatable\nfrom matplotlib.colors import Normalize\n\nfrom myoverse.datatypes import EMGData\nfrom myoverse.datasets.filters.spatial import AveragingSpatialFilter\nfrom myoverse.datasets.filters._template import FilterBaseClass\n\n\ndef get_neighbors_from_grid(\n    grid_layout: np.ndarray, row: int, col: int, connectivity: str = \"4-connected\"\n) -> list:\n    \"\"\"Get the indices of neighboring electrodes in a grid layout.\n\n    Parameters\n    ----------\n    grid_layout : numpy.ndarray\n        2D array containing electrode indices\n    row : int\n        Row index of the target electrode\n    col : int\n        Column index of the target electrode\n    connectivity : str\n        Type of connectivity to use. Either \"4-connected\" (cardinal directions)\n        or \"8-connected\" (including diagonals).\n\n    Returns\n    -------\n    list\n        List of electrode indices for valid neighbors\n    \"\"\"\n    neighbors = []\n    max_rows, max_cols = grid_layout.shape\n\n    # Define neighbor offsets based on connectivity\n    if connectivity == \"4-connected\":\n        # Cardinal directions: up, right, down, left\n        offsets = [(-1, 0), (0, 1), (1, 0), (0, -1)]\n    else:  # 8-connected\n        # Cardinal + diagonal directions\n        offsets = [(-1, 0), (-1, 1), (0, 1), (1, 1), (1, 0), (1, -1), (0, -1), (-1, -1)]\n\n    # Check each potential neighbor\n    for row_offset, col_offset in offsets:\n        neighbor_row = row + row_offset\n        neighbor_col = col + col_offset\n\n        # Check if neighbor position is valid\n        if 0 <= neighbor_row < max_rows and 0 <= neighbor_col < max_cols:\n            # Get the electrode index at this position\n            neighbor_idx = grid_layout[neighbor_row, neighbor_col]\n\n            # Only add valid electrodes (index >= 0)\n            if neighbor_idx >= 0:\n                neighbors.append(neighbor_idx)\n\n    return neighbors"
      ]
    },
    {
      "cell_type": "markdown",
      "metadata": {},
      "source": [
        "Set random seed for reproducibility\n\n"
      ]
    },
    {
      "cell_type": "code",
      "execution_count": null,
      "metadata": {
        "collapsed": false
      },
      "outputs": [],
      "source": [
        "np.random.seed(42)"
      ]
    },
    {
      "cell_type": "markdown",
      "metadata": {},
      "source": [
        "## Creating Synthetic EMG Grid Data\nWe'll create a synthetic 8x8 EMG grid (64 electrodes) with a propagating\nspatial pattern to demonstrate the filtering effects.\n\n"
      ]
    },
    {
      "cell_type": "code",
      "execution_count": null,
      "metadata": {
        "collapsed": false
      },
      "outputs": [],
      "source": [
        "# Generate a base pattern (8x8 grid = 64 electrodes)\n# We'll create a pattern that simulates a motor unit action potential (MUAP)\n# propagating diagonally across the grid\nn_rows, n_cols = 8, 8\nn_samples = 1000\nsampling_frequency = 2000  # Hz\n\n# Create a clean time base\nt = np.linspace(0, 1, n_samples)\n\n# Create grid data with a space-varying pattern\ngrid_data = np.zeros((n_rows * n_cols, n_samples))\n\n# Create a propagating wave pattern\nfor row in range(n_rows):\n    for col in range(n_cols):\n        # Calculate delay based on position (diagonal propagation)\n        delay = (row + col) * 0.05\n        # Create a clean signal with delay\n        clean_signal = np.sin(2 * np.pi * 5 * (t - delay)) * np.exp(\n            -((t - delay - 0.2) ** 2) / 0.01\n        )\n        # Make the signal zero before the delay\n        clean_signal[t < delay] = 0\n\n        # Add noise\n        noise = np.random.randn(n_samples) * 0.2\n\n        # Combine signal and noise\n        electrode_idx = row * n_cols + col\n        grid_data[electrode_idx] = clean_signal + noise"
      ]
    },
    {
      "cell_type": "markdown",
      "metadata": {},
      "source": [
        "## Creating EMGData object with Grid Layout\nNow we'll create an EMGData object and define its grid layout\n\n"
      ]
    },
    {
      "cell_type": "code",
      "execution_count": null,
      "metadata": {
        "collapsed": false
      },
      "outputs": [],
      "source": [
        "# Create EMGData object\nemg = EMGData(grid_data, sampling_frequency)\n\n# Define grid layout (8x8 grid with electrodes numbered from 0 to 63)\ngrid_layout = np.arange(n_rows * n_cols).reshape(n_rows, n_cols)\nemg.grid_layouts = [grid_layout]"
      ]
    },
    {
      "cell_type": "markdown",
      "metadata": {},
      "source": [
        "## Visualize the original EMG data\nLet's visualize the original data at a specific time point\n\n"
      ]
    },
    {
      "cell_type": "code",
      "execution_count": null,
      "metadata": {
        "collapsed": false
      },
      "outputs": [],
      "source": [
        "# Function to visualize EMG grid data\ndef visualize_grid_data(data, grid_layout, title, sample_idx=500):\n    \"\"\"\n    Visualize EMG data on a grid at a specific time point.\n\n    Parameters\n    ----------\n    data : np.ndarray\n        EMG data with shape (n_channels, n_samples)\n    grid_layout : np.ndarray\n        2D array with electrode indices\n    title : str\n        Plot title\n    sample_idx : int\n        Time sample index to visualize\n    \"\"\"\n    # Extract data at the specified time point\n    grid_values = np.zeros(grid_layout.shape)\n\n    # Fill the grid with values\n    for r in range(grid_layout.shape[0]):\n        for c in range(grid_layout.shape[1]):\n            electrode_idx = grid_layout[r, c]\n            if electrode_idx >= 0 and electrode_idx < data.shape[0]:\n                grid_values[r, c] = data[electrode_idx, sample_idx]\n\n    # Create figure and axis\n    fig, ax = plt.subplots(figsize=(8, 6))\n\n    # Plot as a heatmap\n    im = ax.imshow(grid_values, cmap=\"viridis\")\n\n    # Add a colorbar\n    divider = make_axes_locatable(ax)\n    cax = divider.append_axes(\"right\", size=\"5%\", pad=0.1)\n    plt.colorbar(im, cax=cax)\n\n    # Add grid lines\n    ax.set_xticks(np.arange(-0.5, grid_layout.shape[1], 1), minor=True)\n    ax.set_yticks(np.arange(-0.5, grid_layout.shape[0], 1), minor=True)\n    ax.grid(which=\"minor\", color=\"k\", linestyle=\"-\", linewidth=0.5)\n\n    # Add electrode numbers\n    for r in range(grid_layout.shape[0]):\n        for c in range(grid_layout.shape[1]):\n            electrode_idx = grid_layout[r, c]\n            if electrode_idx >= 0:  # Only show valid electrodes\n                ax.text(\n                    c,\n                    r,\n                    str(electrode_idx),\n                    ha=\"center\",\n                    va=\"center\",\n                    color=\"w\",\n                    fontsize=8,\n                )\n\n    ax.set_title(title)\n    plt.tight_layout()\n    plt.show()\n\n\n# Visualize the original grid data\nvisualize_grid_data(\n    emg[\"Input\"], emg.grid_layouts[0], \"Original EMG Grid (8x8) at t=500\"\n)"
      ]
    },
    {
      "cell_type": "markdown",
      "metadata": {},
      "source": [
        "## Longitudinal Spatial Filtering\nNow let's apply a longitudinal averaging spatial filter (filtering along columns)\n\n"
      ]
    },
    {
      "cell_type": "code",
      "execution_count": null,
      "metadata": {
        "collapsed": false
      },
      "outputs": [],
      "source": [
        "# Create a longitudinal filter with order 3\nlongitudinal_filter = AveragingSpatialFilter(\n    order=3,  # Average 3 electrodes together\n    filter_direction=\"longitudinal\",  # Filter along columns\n    input_is_chunked=False,\n)\n\n# Apply the filter\nlongitudinal_rep = emg.apply_filter(\n    longitudinal_filter, representations_to_filter=[\"Input\"]\n)\n\n# Visualize the longitudinal filtered data\nvisualize_grid_data(\n    emg[longitudinal_rep],\n    emg.grid_layouts[0],\n    f\"Longitudinal Filtered EMG Grid (Order 3) at t=500\",\n)"
      ]
    },
    {
      "cell_type": "markdown",
      "metadata": {},
      "source": [
        "## Transverse Spatial Filtering\nNow let's apply a transverse averaging spatial filter (filtering along rows)\n\n"
      ]
    },
    {
      "cell_type": "code",
      "execution_count": null,
      "metadata": {
        "collapsed": false
      },
      "outputs": [],
      "source": [
        "# Reset the grid layout\nemg.grid_layouts = [grid_layout]\n\n# Create a transverse filter with order 3\ntransverse_filter = AveragingSpatialFilter(\n    order=3,  # Average 3 electrodes together\n    filter_direction=\"transverse\",  # Filter along rows\n    input_is_chunked=False,\n)\n\n# Apply the filter\ntransverse_rep = emg.apply_filter(\n    transverse_filter, representations_to_filter=[\"Input\"]\n)\n\n# Visualize the transverse filtered data\nvisualize_grid_data(\n    emg[transverse_rep],\n    emg.grid_layouts[0],\n    f\"Transverse Filtered EMG Grid (Order 3) at t=500\",\n)"
      ]
    },
    {
      "cell_type": "markdown",
      "metadata": {},
      "source": [
        "## Sequential Filtering for 2D Spatial Averaging\nWe can apply both longitudinal and transverse filters sequentially to create\na 2D averaging window.\n\n"
      ]
    },
    {
      "cell_type": "code",
      "execution_count": null,
      "metadata": {
        "collapsed": false
      },
      "outputs": [],
      "source": [
        "# Reset the grid layout\nemg.grid_layouts = [grid_layout]\n\n# Create filter with lower orders to better visualize the result\nlong_filter_2d = AveragingSpatialFilter(\n    order=2,\n    filter_direction=\"longitudinal\",\n    input_is_chunked=False,\n)\n\n# Apply the longitudinal filter\nlong_rep = emg.apply_filter(long_filter_2d, representations_to_filter=[\"Input\"])\n\n# Now apply a transverse filter to the longitudinal filtered data\ntrans_filter_2d = AveragingSpatialFilter(\n    order=2,\n    filter_direction=\"transverse\",\n    input_is_chunked=False,\n)\n\n# Apply the transverse filter on top of the longitudinal filter\nseq_rep = emg.apply_filter(trans_filter_2d, representations_to_filter=[long_rep])\n\n# Visualize the sequentially filtered data\nvisualize_grid_data(\n    emg[seq_rep], emg.grid_layouts[0], f\"2D Filtered EMG Grid (2x2 window) at t=500\"\n)"
      ]
    },
    {
      "cell_type": "markdown",
      "metadata": {},
      "source": [
        "## Using the Shift Parameter for Directional Sensitivity\nThe shift parameter allows creating asymmetric filters that are sensitive to\nsignal propagation direction. Let's compare filters with different shifts.\n\n"
      ]
    },
    {
      "cell_type": "code",
      "execution_count": null,
      "metadata": {
        "collapsed": false
      },
      "outputs": [],
      "source": [
        "# Let's look at a different time point where signal is still propagating\ntime_point = 300\n\n# Reset the grid layout\nemg.grid_layouts = [grid_layout]\n\n# Create three filters with different shifts\nno_shift_filter = AveragingSpatialFilter(\n    order=3,\n    filter_direction=\"longitudinal\",\n    shift=0,  # No shift (symmetric)\n    input_is_chunked=False,\n)\n\npos_shift_filter = AveragingSpatialFilter(\n    order=3,\n    filter_direction=\"longitudinal\",\n    shift=1,  # Positive shift (looks ahead)\n    input_is_chunked=False,\n)\n\nneg_shift_filter = AveragingSpatialFilter(\n    order=3,\n    filter_direction=\"longitudinal\",\n    shift=-1,  # Negative shift (looks behind)\n    input_is_chunked=False,\n)\n\n# Create a figure with subplots for comparison\nfig, axes = plt.subplots(2, 2, figsize=(14, 10))\naxes = axes.flatten()\n\n# Plot original data\ngrid_values_orig = np.zeros(grid_layout.shape)\nfor r in range(grid_layout.shape[0]):\n    for c in range(grid_layout.shape[1]):\n        electrode_idx = grid_layout[r, c]\n        if electrode_idx >= 0 and electrode_idx < emg[\"Input\"].shape[0]:\n            grid_values_orig[r, c] = emg[\"Input\"][electrode_idx, time_point]\n\nim0 = axes[0].imshow(grid_values_orig, cmap=\"viridis\")\naxes[0].set_title(\"Original Grid at t=300\")\n\n# Apply and plot the three different filters\nfilter_names = [\n    \"No Shift (Symmetric)\",\n    \"Positive Shift (Forward)\",\n    \"Negative Shift (Backward)\",\n]\nfilters = [no_shift_filter, pos_shift_filter, neg_shift_filter]\n\n# Create a common color scale for better comparison\nall_filtered_values = []\n\n# First pass to collect all values for normalization\nfor i, filt in enumerate(filters):\n    # Reset grid layout\n    emg.grid_layouts = [grid_layout.copy()]\n\n    # Apply filter\n    rep_name = emg.apply_filter(filt, representations_to_filter=[\"Input\"])\n\n    # Get filtered data at time point\n    grid_values = np.zeros(emg.grid_layouts[0].shape)\n    for r in range(emg.grid_layouts[0].shape[0]):\n        for c in range(emg.grid_layouts[0].shape[1]):\n            electrode_idx = emg.grid_layouts[0][r, c]\n            if electrode_idx >= 0 and electrode_idx < emg[rep_name].shape[0]:\n                grid_values[r, c] = emg[rep_name][electrode_idx, time_point]\n\n    all_filtered_values.append(grid_values)\n\n# Find global min and max for normalization\nall_values = np.concatenate([values.flatten() for values in all_filtered_values])\nvmin, vmax = np.min(all_values), np.max(all_values)\nnorm = Normalize(vmin=vmin, vmax=vmax)\n\n# Second pass to plot with normalized colors\nfor i, filt in enumerate(filters):\n    # Reset grid layout\n    emg.grid_layouts = [grid_layout.copy()]\n\n    # Apply filter\n    rep_name = emg.apply_filter(filt, representations_to_filter=[\"Input\"])\n\n    # Get filtered data\n    grid_values = all_filtered_values[i]\n\n    # Plot with common normalization\n    im = axes[i + 1].imshow(grid_values, cmap=\"viridis\", norm=norm)\n    axes[i + 1].set_title(f\"Filter with {filter_names[i]}\")\n\n    # Add electrode numbers\n    for r in range(emg.grid_layouts[0].shape[0]):\n        for c in range(emg.grid_layouts[0].shape[1]):\n            electrode_idx = emg.grid_layouts[0][r, c]\n            if electrode_idx >= 0:  # Only show valid electrodes\n                axes[i + 1].text(\n                    c,\n                    r,\n                    str(electrode_idx),\n                    ha=\"center\",\n                    va=\"center\",\n                    color=\"w\",\n                    fontsize=8,\n                )\n\n    # Add grid lines\n    axes[i + 1].set_xticks(np.arange(-0.5, emg.grid_layouts[0].shape[1], 1), minor=True)\n    axes[i + 1].set_yticks(np.arange(-0.5, emg.grid_layouts[0].shape[0], 1), minor=True)\n    axes[i + 1].grid(which=\"minor\", color=\"k\", linestyle=\"-\", linewidth=0.5)\n\n# Add colorbar\nfig.subplots_adjust(right=0.85)\ncbar_ax = fig.add_axes([0.87, 0.15, 0.02, 0.7])\nfig.colorbar(im, cax=cbar_ax)\n\nplt.suptitle(\"Effect of Shift Parameter on Spatial Filtering\", fontsize=16)\nplt.tight_layout(rect=[0, 0, 0.85, 0.95])\nplt.show()"
      ]
    },
    {
      "cell_type": "markdown",
      "metadata": {},
      "source": [
        "## Compare Time Series Before and After Filtering\nLet's examine how the filtering affects the time series data for a few electrodes\n\n"
      ]
    },
    {
      "cell_type": "code",
      "execution_count": null,
      "metadata": {
        "collapsed": false
      },
      "outputs": [],
      "source": [
        "# Select a few electrodes to visualize\nelectrode_indices = [27, 28, 35, 36]  # A 2x2 block in the middle of the grid\n\n# Create a figure with subplots\nfig, axes = plt.subplots(4, 1, figsize=(10, 12), sharex=True)\n\n# Plot time series for original data\nfor i, electrode_idx in enumerate(electrode_indices):\n    axes[0].plot(t, emg[\"Input\"][electrode_idx], label=f\"Electrode {electrode_idx}\")\n\naxes[0].set_title(\"Original EMG Signals\")\naxes[0].set_ylabel(\"Amplitude\")\naxes[0].legend()\naxes[0].grid(True)\n\n# Plot time series after longitudinal filtering\n# Reset grid layout\nemg.grid_layouts = [grid_layout.copy()]\nlong_rep = emg.apply_filter(longitudinal_filter, representations_to_filter=[\"Input\"])\n\n# Find corresponding electrodes in the filtered data\nfiltered_electrode_indices = []\nfor orig_idx in electrode_indices:\n    # Find the position of this electrode in the original grid\n    pos = np.where(grid_layout == orig_idx)\n    row, col = pos[0][0], pos[1][0]\n\n    # Find the electrode at the same position in the filtered grid (if it exists)\n    if row < emg.grid_layouts[0].shape[0] and col < emg.grid_layouts[0].shape[1]:\n        filtered_idx = emg.grid_layouts[0][row, col]\n        if filtered_idx >= 0:\n            filtered_electrode_indices.append((orig_idx, filtered_idx))\n\n# Plot the filtered signals\nfor orig_idx, filtered_idx in filtered_electrode_indices:\n    axes[1].plot(t, emg[long_rep][filtered_idx], label=f\"Filtered from {orig_idx}\")\n\naxes[1].set_title(\"Longitudinal Filtered Signals (Order 3)\")\naxes[1].set_ylabel(\"Amplitude\")\naxes[1].legend()\naxes[1].grid(True)\n\n# Plot time series after transverse filtering\n# Reset grid layout\nemg.grid_layouts = [grid_layout.copy()]\ntrans_rep = emg.apply_filter(transverse_filter, representations_to_filter=[\"Input\"])\n\n# Find corresponding electrodes for transverse filtering\ntrans_electrode_indices = []\nfor orig_idx in electrode_indices:\n    # Find the position of this electrode in the original grid\n    pos = np.where(grid_layout == orig_idx)\n    row, col = pos[0][0], pos[1][0]\n\n    # Find the electrode at the same position in the filtered grid (if it exists)\n    if row < emg.grid_layouts[0].shape[0] and col < emg.grid_layouts[0].shape[1]:\n        filtered_idx = emg.grid_layouts[0][row, col]\n        if filtered_idx >= 0:\n            trans_electrode_indices.append((orig_idx, filtered_idx))\n\n# Plot the filtered signals\nfor orig_idx, filtered_idx in trans_electrode_indices:\n    axes[2].plot(t, emg[trans_rep][filtered_idx], label=f\"Filtered from {orig_idx}\")\n\naxes[2].set_title(\"Transverse Filtered Signals (Order 3)\")\naxes[2].set_ylabel(\"Amplitude\")\naxes[2].legend()\naxes[2].grid(True)\n\n# Plot time series with different shifts\n# Reset grid layout\nemg.grid_layouts = [grid_layout.copy()]\n\n# Apply a filter with positive shift\npos_shift_rep = emg.apply_filter(pos_shift_filter, representations_to_filter=[\"Input\"])\n\n# Apply a filter with negative shift\nemg.grid_layouts = [grid_layout.copy()]\nneg_shift_rep = emg.apply_filter(neg_shift_filter, representations_to_filter=[\"Input\"])\n\n# Get one electrode to show the difference clearly\nif len(filtered_electrode_indices) > 0:\n    orig_idx, filt_idx = filtered_electrode_indices[0]\n\n    # Find corresponding electrodes in shifted filter outputs\n    pos_row, pos_col = np.where(emg.grid_layouts[0] == filt_idx)\n    if len(pos_row) > 0 and len(pos_col) > 0:\n        pos_filtered_idx = emg.grid_layouts[0][pos_row[0], pos_col[0]]\n        axes[3].plot(\n            t,\n            emg[pos_shift_rep][pos_filtered_idx],\n            label=f\"Positive Shift ({orig_idx})\",\n            color=\"green\",\n        )\n\n    # Reset and find for negative shift\n    emg.grid_layouts = [grid_layout.copy()]\n    neg_rep = emg.apply_filter(neg_shift_filter, representations_to_filter=[\"Input\"])\n    neg_row, neg_col = np.where(emg.grid_layouts[0] == filt_idx)\n    if len(neg_row) > 0 and len(neg_col) > 0:\n        neg_filtered_idx = emg.grid_layouts[0][neg_row[0], neg_col[0]]\n        axes[3].plot(\n            t,\n            emg[neg_shift_rep][neg_filtered_idx],\n            label=f\"Negative Shift ({orig_idx})\",\n            color=\"red\",\n        )\n\naxes[3].set_title(\"Effect of Shift Parameter on Filtering\")\naxes[3].set_xlabel(\"Time (s)\")\naxes[3].set_ylabel(\"Amplitude\")\naxes[3].legend()\naxes[3].grid(True)\n\nplt.tight_layout()\nplt.show()"
      ]
    },
    {
      "cell_type": "markdown",
      "metadata": {},
      "source": [
        "## Conclusion\nIn this example, we've seen how the AveragingSpatialFilter can be used for spatial filtering of EMG grid data.\nKey points:\n\n1. **Directional Filtering**: The filter can be applied in longitudinal or transverse directions\n2. **Smoothing Effect**: Spatial averaging reduces noise and enhances signal quality\n3. **Dimensional Reduction**: The filter reduces the spatial dimensions based on the order\n4. **Shift Parameter**: Allows creating asymmetric filters sensitive to signal propagation direction\n5. **Sequential Application**: Can be applied sequentially for 2D spatial averaging\n\nSpatial filtering is particularly useful when working with high-density EMG recordings,\nas it can help extract directional information about muscle activity propagation\nand reduce common noise across electrodes.\n\n"
      ]
    },
    {
      "cell_type": "markdown",
      "metadata": {},
      "source": [
        "## Creating Your Own Custom Spatial Filter\nYou can also create custom spatial filters to implement specialized processing.\nHere, we'll create a custom Laplacian spatial filter, which is useful for\nhighlighting local muscle activity by enhancing signal differences between an electrode\nand its neighbors.\n\n"
      ]
    },
    {
      "cell_type": "code",
      "execution_count": null,
      "metadata": {
        "collapsed": false
      },
      "outputs": [],
      "source": [
        "class LaplacianSpatialFilter(FilterBaseClass):\n    \"\"\"Custom Laplacian spatial filter for EMG grids.\n\n    This filter computes the difference between each electrode and the average\n    of its adjacent neighbors. It helps to highlight local activity and reduce\n    common-mode noise.\n\n    Parameters\n    ----------\n    input_is_chunked : bool\n        Whether the input is chunked or not.\n    is_output : bool\n        Whether the filter is an output filter.\n    name : str | None\n        Name of the filter, by default None.\n    run_checks : bool\n        Whether to run the checks when filtering.\n    connectivity : str\n        The type of connectivity to use. Either \"4-connected\" (cardinal directions)\n        or \"8-connected\" (including diagonals).\n    \"\"\"\n\n    def __init__(\n        self,\n        input_is_chunked: bool,\n        is_output: bool = False,\n        name: str | None = None,\n        run_checks: bool = True,\n        *,\n        connectivity: str = \"4-connected\",\n    ):\n        super().__init__(\n            input_is_chunked=input_is_chunked,\n            allowed_input_type=\"both\",  # Works with both chunked and non-chunked data\n            is_output=is_output,\n            name=name,\n            run_checks=run_checks,\n        )\n\n        if connectivity not in [\"4-connected\", \"8-connected\"]:\n            raise ValueError(\n                \"Connectivity must be either '4-connected' or '8-connected'\"\n            )\n\n        self.connectivity = connectivity\n\n    def _filter(self, input_array: np.ndarray, **kwargs) -> np.ndarray:\n        \"\"\"Apply Laplacian spatial filtering to the input array.\n\n        Parameters\n        ----------\n        input_array : numpy.ndarray\n            Input array to filter\n        **kwargs\n            Additional keyword arguments from the Data object.\n            Must include 'grid_layouts' for spatial filtering.\n\n        Returns\n        -------\n        numpy.ndarray\n            Filtered array\n        \"\"\"\n        # Check if grid_layouts is provided\n        grid_layouts = kwargs.get(\"grid_layouts\")\n        if grid_layouts is None or len(grid_layouts) == 0:\n            raise ValueError(\"grid_layouts is required for spatial filtering\")\n\n        grid_layout = grid_layouts[0]  # Use the first grid layout\n\n        # Get the shape of the input array\n        original_shape = input_array.shape\n\n        # Initialize output array with zeros (same shape as input)\n        if not self.input_is_chunked:\n            output_array = np.zeros_like(input_array)\n\n            # For each electrode in the grid\n            for row_idx in range(grid_layout.shape[0]):\n                for col_idx in range(grid_layout.shape[1]):\n                    electrode_idx = grid_layout[row_idx, col_idx]\n\n                    # Skip invalid electrodes (marked with -1)\n                    if electrode_idx < 0:\n                        continue\n\n                    # Get neighbor indices\n                    neighbors = get_neighbors_from_grid(\n                        grid_layout, row_idx, col_idx, connectivity=self.connectivity\n                    )\n\n                    # Skip electrodes with no neighbors\n                    if len(neighbors) == 0:\n                        output_array[electrode_idx] = input_array[electrode_idx]\n                        continue\n\n                    # Calculate the average of neighboring electrodes\n                    neighbor_avg = np.zeros_like(input_array[electrode_idx])\n                    for neighbor_idx in neighbors:\n                        neighbor_avg += input_array[neighbor_idx]\n\n                    neighbor_avg /= len(neighbors)\n\n                    # Apply Laplacian operation: center - average of neighbors\n                    output_array[electrode_idx] = (\n                        input_array[electrode_idx] - neighbor_avg\n                    )\n\n            return output_array\n        else:\n            # Handle chunked data\n            output_array = np.zeros_like(input_array)\n\n            # For each chunk\n            for chunk in range(original_shape[0]):\n                # For each electrode in the grid\n                for row_idx in range(grid_layout.shape[0]):\n                    for col_idx in range(grid_layout.shape[1]):\n                        electrode_idx = grid_layout[row_idx, col_idx]\n\n                        # Skip invalid electrodes\n                        if electrode_idx < 0:\n                            continue\n\n                        # Get neighbor indices\n                        neighbors = get_neighbors_from_grid(\n                            grid_layout,\n                            row_idx,\n                            col_idx,\n                            connectivity=self.connectivity,\n                        )\n\n                        # Skip electrodes with no neighbors\n                        if len(neighbors) == 0:\n                            output_array[chunk, electrode_idx] = input_array[\n                                chunk, electrode_idx\n                            ]\n                            continue\n\n                        # Calculate the average of neighboring electrodes\n                        neighbor_avg = np.zeros_like(input_array[chunk, electrode_idx])\n                        for neighbor_idx in neighbors:\n                            neighbor_avg += input_array[chunk, neighbor_idx]\n\n                        neighbor_avg /= len(neighbors)\n\n                        # Apply Laplacian operation: center - average of neighbors\n                        output_array[chunk, electrode_idx] = (\n                            input_array[chunk, electrode_idx] - neighbor_avg\n                        )\n\n            return output_array\n\n\n# Reset the grid layout\nemg.grid_layouts = [grid_layout]\n\n# Create our custom Laplacian filter (4-connected)\nlaplacian_filter = LaplacianSpatialFilter(\n    input_is_chunked=False, is_output=True, name=\"Laplacian\", connectivity=\"4-connected\"\n)\n\n# Apply the custom filter\nlaplacian_rep = emg.apply_filter(laplacian_filter, representations_to_filter=[\"Input\"])\n\n# Create the 8-connected version for comparison\nlaplacian_filter_8 = LaplacianSpatialFilter(\n    input_is_chunked=False,\n    is_output=True,\n    name=\"Laplacian8\",\n    connectivity=\"8-connected\",\n)\n\n# Apply the 8-connected filter\nlaplacian_8_rep = emg.apply_filter(\n    laplacian_filter_8, representations_to_filter=[\"Input\"]\n)\n\n# Visualize the custom filtered data\nvisualize_grid_data(\n    emg[laplacian_rep],\n    emg.grid_layouts[0],\n    f\"Laplacian Filtered EMG Grid (4-connected) at t=500\",\n)\n\n# Visualize the 8-connected version\nvisualize_grid_data(\n    emg[laplacian_8_rep],\n    emg.grid_layouts[0],\n    f\"Laplacian Filtered EMG Grid (8-connected) at t=500\",\n)"
      ]
    },
    {
      "cell_type": "markdown",
      "metadata": {},
      "source": [
        "Custom filters like the Laplacian spatial filter can help highlight specific\nEMG signal characteristics that may be useful for your particular application.\nBy extending the FilterBaseClass, you can implement any spatial filtering algorithm\nappropriate for your needs.\n\n"
      ]
    }
  ],
  "metadata": {
    "kernelspec": {
      "display_name": "Python 3",
      "language": "python",
      "name": "python3"
    },
    "language_info": {
      "codemirror_mode": {
        "name": "ipython",
        "version": 3
      },
      "file_extension": ".py",
      "mimetype": "text/x-python",
      "name": "python",
      "nbconvert_exporter": "python",
      "pygments_lexer": "ipython3",
      "version": "3.12.8"
    }
  },
  "nbformat": 4,
  "nbformat_minor": 0
}