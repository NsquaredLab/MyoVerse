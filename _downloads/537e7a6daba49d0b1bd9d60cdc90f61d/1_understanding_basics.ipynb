{
  "cells": [
    {
      "cell_type": "markdown",
      "metadata": {},
      "source": [
        "\n# Package basics\n\nThis example is a brief introduction to the basic functionalities of the package.\n"
      ]
    },
    {
      "cell_type": "code",
      "execution_count": null,
      "metadata": {
        "collapsed": false
      },
      "outputs": [],
      "source": [
        "import os\nimport pickle as pkl\nimport matplotlib.pyplot as plt\nimport numpy as np\nfrom myoverse.datatypes import EMGData\nfrom scipy.signal import butter\nfrom myoverse.datasets.filters.temporal import SOSFrequencyFilter"
      ]
    },
    {
      "cell_type": "markdown",
      "metadata": {},
      "source": [
        "## Loading data\nFirst we load the EMG example data and convert it to a MyoVerse Data object.\nThe Data object is the primary component of the package, designed to store data and apply filters.\nThe only required parameter is the sampling frequency of the data and the data itself.\n\n"
      ]
    },
    {
      "cell_type": "code",
      "execution_count": null,
      "metadata": {
        "collapsed": false
      },
      "outputs": [],
      "source": [
        "# Get the path to the data file\ndata_path = os.path.join(\"..\", \"data\", \"emg.pkl\")\n\nwith open(data_path, \"rb\") as f:\n    emg_data = {k: EMGData(v, sampling_frequency=2044) for k, v in pkl.load(f).items()}\n\nprint(\"EMG data loaded successfully:\")\nprint(emg_data)"
      ]
    },
    {
      "cell_type": "markdown",
      "metadata": {},
      "source": [
        "## Looking at one specific task for simplicity\nThe example data contains EMG from two different tasks labeled as \"1\" and \"2\".\nIn the following we will only look at task 1 to explain the filtering functionalities.\n\n"
      ]
    },
    {
      "cell_type": "code",
      "execution_count": null,
      "metadata": {
        "collapsed": false
      },
      "outputs": [],
      "source": [
        "task_one_data = emg_data[\"1\"]\n\nprint(\"\\nTask 1 data details:\")\nprint(task_one_data)"
      ]
    },
    {
      "cell_type": "markdown",
      "metadata": {},
      "source": [
        "## Understanding the saving format\nThe EMGData object has an **input_data** attribute that stores the raw data.\n\nThe raw data is also added to the **processed_representations** attribute with the key \"Input\".\nThe processed_representations attribute is a dictionary where all filtering sequences are stored.\nAt the beginning this dictionary contains only the raw data.\n\nThe attribute **is_chunked** is a dictionary that stores if the data of a particular representation is chunked or not.\n\nThe attribute **output_representations** is a dictionary that stores the representation that will be outputted by the dataset pipeline.\n\n"
      ]
    },
    {
      "cell_type": "code",
      "execution_count": null,
      "metadata": {
        "collapsed": false
      },
      "outputs": [],
      "source": [
        "print(\"\\nRaw input data shape:\")\nprint(task_one_data.input_data.shape)"
      ]
    },
    {
      "cell_type": "markdown",
      "metadata": {},
      "source": [
        "## Plotting the raw data\nWe can plot the raw data using matplotlib.\n\n"
      ]
    },
    {
      "cell_type": "code",
      "execution_count": null,
      "metadata": {
        "collapsed": false
      },
      "outputs": [],
      "source": [
        "# Create a figure with better dimensions for visualization\nplt.figure(figsize=(12, 6))\n\n# Get the raw EMG data\nraw_emg = task_one_data.input_data\n\n# Set plt font size for better readability\nplt.rcParams.update({\"font.size\": 14})\n\nfor channel in range(raw_emg.shape[0]):\n    plt.plot(raw_emg[channel], color=\"black\", alpha=0.1)\n\nplt.title(\"Raw EMG data\")\nplt.ylabel(\"Amplitude (a. u.)\")\nplt.xticks(\n    np.arange(0, raw_emg.shape[-1] + 1, 2044).astype(int),\n    np.arange(0, raw_emg.shape[-1] / 2044 + 1, 1).astype(int),\n)\nplt.xlabel(\"Time (s)\")\n\n# Add a grid for better readability\nplt.grid(True, linestyle=\"--\", alpha=0.7)\n\nplt.tight_layout()\nplt.show()"
      ]
    },
    {
      "cell_type": "markdown",
      "metadata": {},
      "source": [
        "## Attributes of the EMGData object\nAny Data object, of which EMGData is inheriting from, possesses a processed_representations attribute where filtered data will be stored.\n\n.. note :: We refer to a filtered data as a representation.\n\nAt the beginning this attribute only contains the raw data with the key \"Input\".\n\n"
      ]
    },
    {
      "cell_type": "code",
      "execution_count": null,
      "metadata": {
        "collapsed": false
      },
      "outputs": [],
      "source": [
        "print(\"\\nInitial processed representations:\")\nprint(task_one_data.processed_representations.keys())"
      ]
    },
    {
      "cell_type": "markdown",
      "metadata": {},
      "source": [
        "## Applying a filter\nThe EMGData object has a method called **apply_filter** that applies a filter to the data.\nFor example, we can apply a 4th order 20 Hz lowpass filter to the data.\n\n"
      ]
    },
    {
      "cell_type": "code",
      "execution_count": null,
      "metadata": {
        "collapsed": false
      },
      "outputs": [],
      "source": [
        "# Define the filter parameters\nFILTER_ORDER = 4\nCUTOFF_FREQ = 20  # Hz\nSAMPLING_FREQ = 2044  # Hz\n\n# Create the filter coefficients using a Butterworth filter design\nsos_filter_coefficients = butter(\n    FILTER_ORDER, CUTOFF_FREQ, \"lowpass\", output=\"sos\", fs=SAMPLING_FREQ\n)"
      ]
    },
    {
      "cell_type": "markdown",
      "metadata": {},
      "source": [
        "## Creating the filter\nEach filter has a parameter **input_is_chunked** that specifies if the input data is chunked or not.\nThis must be set explicitly as some filters can only be used on either chunked or non-chunked data.\nSince we want to have the result of the filter as an output representation, we set the parameter **is_output** to True.\nFurther having the user specify this parameter forces them to think about the data they are working with.\n\n"
      ]
    },
    {
      "cell_type": "code",
      "execution_count": null,
      "metadata": {
        "collapsed": false
      },
      "outputs": [],
      "source": [
        "lowpass_filter = SOSFrequencyFilter(\n    sos_filter_coefficients=sos_filter_coefficients,\n    is_output=True,\n    name=\"Lowpass\",\n    input_is_chunked=False,\n)\nprint(\"\\nFilter configuration:\")\nprint(lowpass_filter)"
      ]
    },
    {
      "cell_type": "markdown",
      "metadata": {},
      "source": [
        "## Applying the filter\nTo apply the filter we call the apply_filter method on the EMGData object.\n\n"
      ]
    },
    {
      "cell_type": "code",
      "execution_count": null,
      "metadata": {
        "collapsed": false
      },
      "outputs": [],
      "source": [
        "task_one_data.apply_filter(lowpass_filter, representations_to_filter=[\"Input\"])\nprint(\"\\nFilter applied successfully!\")\nprint(\"Available processed representations:\")\nprint(task_one_data.processed_representations.keys())"
      ]
    },
    {
      "cell_type": "markdown",
      "metadata": {},
      "source": [
        "## Accessing the filtered data\nThe filtered data is saved in the **output_representations** and the **processed_representations** attributes of the EMGData object.\nIn our example the key is \"Lowpass\".\n\nIn case you do not want to index using the filter sequence name, you can retrieve the last processed data by indexing with \"Last\".\n\n"
      ]
    },
    {
      "cell_type": "code",
      "execution_count": null,
      "metadata": {
        "collapsed": false
      },
      "outputs": [],
      "source": [
        "print(\"\\nFiltered data details:\")\nprint(task_one_data)\n\n# Verify that both methods of accessing the filtered data return the same result\nidentical = np.allclose(\n    task_one_data.output_representations[\"Lowpass\"],\n    task_one_data[\"Last\"],\n)\nprint(f\"\\nLowpass and Last point to the same data: {identical}\")"
      ]
    },
    {
      "cell_type": "markdown",
      "metadata": {},
      "source": [
        "## Visualizing the difference between raw and filtered data\nLet's plot both the raw and filtered data to see the effect of the lowpass filter\n\n"
      ]
    },
    {
      "cell_type": "code",
      "execution_count": null,
      "metadata": {
        "collapsed": false
      },
      "outputs": [],
      "source": [
        "plt.figure(figsize=(12, 8))\n\n# For visualization clarity, let's plot only one channel\nchannel_to_plot = 0\nfiltered_emg = task_one_data[\"Lowpass\"]\n\n# Plot raw EMG for the selected channel\nplt.subplot(2, 1, 1)\nplt.plot(raw_emg[channel_to_plot], color=\"blue\", label=\"Raw EMG\")\nplt.title(f\"Raw EMG - Channel {channel_to_plot + 1}\")\nplt.ylabel(\"Amplitude (a.u.)\")\nplt.grid(True, linestyle=\"--\", alpha=0.7)\nplt.legend()\n\n# Plot filtered EMG for the selected channel\nplt.subplot(2, 1, 2)\nplt.plot(filtered_emg[channel_to_plot], color=\"red\", label=\"Lowpass Filtered EMG\")\nplt.title(\n    f\"Lowpass Filtered EMG (Cutoff: {CUTOFF_FREQ} Hz) - Channel {channel_to_plot + 1}\"\n)\nplt.ylabel(\"Amplitude (a.u.)\")\nplt.xlabel(\"Time (s)\")\nplt.grid(True, linestyle=\"--\", alpha=0.7)\nplt.legend()\n\nplt.tight_layout()\nplt.show()"
      ]
    }
  ],
  "metadata": {
    "kernelspec": {
      "display_name": "Python 3",
      "language": "python",
      "name": "python3"
    },
    "language_info": {
      "codemirror_mode": {
        "name": "ipython",
        "version": 3
      },
      "file_extension": ".py",
      "mimetype": "text/x-python",
      "name": "python",
      "nbconvert_exporter": "python",
      "pygments_lexer": "ipython3",
      "version": "3.12.8"
    }
  },
  "nbformat": 4,
  "nbformat_minor": 0
}