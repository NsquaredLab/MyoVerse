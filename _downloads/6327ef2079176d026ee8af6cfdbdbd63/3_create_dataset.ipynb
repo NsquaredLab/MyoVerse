{
  "cells": [
    {
      "cell_type": "markdown",
      "metadata": {},
      "source": [
        "\n# Creating a dataset\n\nThis example shows how to create a dataset for training a deep learning model.\n\n\n"
      ]
    },
    {
      "cell_type": "markdown",
      "metadata": {},
      "source": [
        "In this example we will create a dataset that was used in our real-time paper [1]_.\n\n.. [1] S\u00eempetru, R.C., M\u00e4rz, M., Del Vecchio, A., 2023. Proportional and Simultaneous Real-Time Control of the Full Human Hand From High-Density Electromyography. IEEE TNSRE 31, 3118\u20133131. https://doi.org/10/gsgk4s\n\n"
      ]
    },
    {
      "cell_type": "code",
      "execution_count": null,
      "metadata": {
        "collapsed": false
      },
      "outputs": [],
      "source": [
        "from functools import partial\nfrom pathlib import Path\n\nimport numpy as np\nfrom scipy.signal import butter\n\nfrom myoverse.datasets.filters.emg_augmentations import WaveletDecomposition\nfrom myoverse.datasets.filters.generic import ApplyFunctionFilter, IndexDataFilter\nfrom myoverse.datasets.filters.temporal import SOSFrequencyFilter\nfrom myoverse.datasets.supervised import EMGDataset\n\ndataset = EMGDataset(\n    emg_data_path=Path(r\"data/emg.pkl\").resolve(),\n    ground_truth_data_path=Path(r\"data/kinematics.pkl\").resolve(),\n    sampling_frequency=2044.0,\n    tasks_to_use=[\"1\", \"2\"],\n    save_path=Path(r\"data/dataset.zarr\").resolve(),\n    emg_filter_pipeline_after_chunking=[\n        [\n            SOSFrequencyFilter(\n                sos_filter_coefficients=butter(\n                    4, [47.5, 52.5], \"bandstop\", output=\"sos\", fs=2044\n                ),\n                is_output=True,\n                name=\"Raw No Powerline\",\n            ),\n            SOSFrequencyFilter(\n                sos_filter_coefficients=butter(4, 20, \"lowpass\", output=\"sos\", fs=2044),\n                is_output=True,\n                name=\"Raw No Powerline Lowpassed 20 Hz\",\n            ),\n        ]\n    ],\n    emg_representations_to_filter_after_chunking=[\"Last\"],\n    ground_truth_filter_pipeline_before_chunking=[\n        [\n            ApplyFunctionFilter(function=np.reshape, newshape=(63, -1)),\n            IndexDataFilter(indices=(slice(3, 63),)),\n        ]\n    ],\n    ground_truth_representations_to_filter_before_chunking=[\"Input\"],\n    ground_truth_filter_pipeline_after_chunking=[\n        [\n            ApplyFunctionFilter(\n                function=partial(np.mean, axis=-1),\n                is_output=True,\n                name=\"Mean Kinematics per EMG Chunk\",\n            ),\n        ]\n    ],\n    ground_truth_representations_to_filter_after_chunking=[\"Last\"],\n    testing_split_ratio=0.3,\n    validation_split_ratio=0.1,\n    augmentation_pipelines=[\n        [WaveletDecomposition(nr_of_grids=5, is_output=True, level=2)]\n    ],\n)\n\ndataset.create_dataset()"
      ]
    },
    {
      "cell_type": "markdown",
      "metadata": {},
      "source": [
        "Default dataset are also available. Here is an example of how to use the EMBCDataset used in [2]_.\n\n.. [2] S\u00eempetru, R.C., Osswald, M., Braun, D.I., Souza de Oliveira, D., Cakici, A.L., Del Vecchio, A., 2022. Accurate continuous prediction of 14 degrees of freedom of the hand from myoelectrical signals through convolutive deep learning, in: Proceedings of the 2022 44th Annual International Conference of the IEEE Engineering in Medicine & Biology Society (EMBC). Presented at the 2022 44th Annual International Conference of the IEEE Engineering in Medicine & Biology Society (EMBC), pp. 702\u2013706. https://doi.org/10/gq2f47\n\n"
      ]
    },
    {
      "cell_type": "code",
      "execution_count": null,
      "metadata": {
        "collapsed": false
      },
      "outputs": [],
      "source": [
        "from myoverse.datasets.defaults import EMBCDataset\n\ndataset = EMBCDataset(\n    emg_data_path=Path(r\"data/emg.pkl\").resolve(),\n    ground_truth_data_path=Path(r\"data/kinematics.pkl\").resolve(),\n    save_path=Path(r\"data/dataset.zarr\").resolve(),\n    tasks_to_use=[\"1\", \"2\"],\n)\n\ndataset.create_dataset()"
      ]
    }
  ],
  "metadata": {
    "kernelspec": {
      "display_name": "Python 3",
      "language": "python",
      "name": "python3"
    },
    "language_info": {
      "codemirror_mode": {
        "name": "ipython",
        "version": 3
      },
      "file_extension": ".py",
      "mimetype": "text/x-python",
      "name": "python",
      "nbconvert_exporter": "python",
      "pygments_lexer": "ipython3",
      "version": "3.12.8"
    }
  },
  "nbformat": 4,
  "nbformat_minor": 0
}