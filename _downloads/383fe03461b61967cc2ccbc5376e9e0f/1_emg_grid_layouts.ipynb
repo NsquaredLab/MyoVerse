{
  "cells": [
    {
      "cell_type": "markdown",
      "metadata": {},
      "source": [
        "\n# EMG Grid Layouts: Electrode Arrangements\n\nThis example demonstrates how to work with the ``grid_layouts`` parameter in the ``EMGData`` class.\nGrid layouts allow you to specify the exact arrangement of electrodes on physical recording grids,\nwhich is essential for:\n\n- Visualizing high-density EMG recordings in their spatial context\n- Working with data from multiple electrode arrays\n- Handling non-rectangular or incomplete electrode configurations\n- Performing spatial filtering or neighborhood-based operations\n\nThe ``grid_layouts`` parameter provides precise control over electrode positioning, numbering,\nand visualization, making it valuable for analyzing complex multichannel EMG recordings.\n"
      ]
    },
    {
      "cell_type": "markdown",
      "metadata": {},
      "source": [
        "First, let's import the necessary libraries\n\n"
      ]
    },
    {
      "cell_type": "code",
      "execution_count": null,
      "metadata": {
        "collapsed": false
      },
      "outputs": [],
      "source": [
        "import numpy as np\nimport matplotlib.pyplot as plt\nfrom myoverse.datatypes import EMGData, create_grid_layout"
      ]
    },
    {
      "cell_type": "markdown",
      "metadata": {},
      "source": [
        "## Creating basic grid layouts\n\nThe ``create_grid_layout`` function helps create grid layouts with different patterns and configurations.\nLet's create some examples to understand the options:\n\n"
      ]
    },
    {
      "cell_type": "code",
      "execution_count": null,
      "metadata": {
        "collapsed": false
      },
      "outputs": [],
      "source": [
        "# Create a 4\u00d74 grid with row-wise numbering (0-15)\ngrid_row = create_grid_layout(4, 4, fill_pattern=\"row\")\nprint(\"4\u00d74 grid with row-wise numbering:\")\nprint(grid_row)\nprint()\n\n# Create a 4\u00d74 grid with column-wise numbering (0-15)\ngrid_col = create_grid_layout(4, 4, fill_pattern=\"column\")\nprint(\"4\u00d74 grid with column-wise numbering:\")\nprint(grid_col)\nprint()"
      ]
    },
    {
      "cell_type": "markdown",
      "metadata": {},
      "source": [
        "## Visualizing the grid layouts\n\nLet's create random EMG data and use these grid layouts to visualize it.\nWe'll use our enhanced `plot_grid_layout` method to create professional visualizations.\n\n"
      ]
    },
    {
      "cell_type": "code",
      "execution_count": null,
      "metadata": {
        "collapsed": false
      },
      "outputs": [],
      "source": [
        "# Create sample EMG data (16 channels, 1000 samples)\nemg_data_16ch = np.random.randn(16, 1000)\nsampling_freq = 2000  # 2000 Hz\n\n# Create EMG objects with each grid layout\nemg_row = EMGData(emg_data_16ch, sampling_freq, grid_layouts=[grid_row])\nemg_col = EMGData(emg_data_16ch, sampling_freq, grid_layouts=[grid_col])\n\n# Create a figure with subplots for comparison\nfig, (ax1, ax2) = plt.subplots(2, 1, figsize=(5, 12))\nfig.suptitle(\"Comparing Row-wise vs\\nColumn-wise Electrode Numbering\", fontsize=16)\n\n# Use the enhanced plot_grid_layout method with explicit axes and autoshow=False\nemg_row.plot_grid_layout(\n    0,\n    title=\"Row-wise Numbering\",\n    colorbar=False,\n    grid_alpha=0.7,\n    ax=ax1,\n    autoshow=False,  # Don't show yet - wait until both grids are plotted\n)\n\n# Plot column-wise grid on the second axis\nemg_col.plot_grid_layout(\n    0,\n    title=\"Column-wise Numbering\",\n    colorbar=False,\n    grid_alpha=0.7,\n    ax=ax2,\n    autoshow=False,  # Don't show yet\n)\n\n# Now show the complete figure with both subplots\nplt.tight_layout()\nplt.show()"
      ]
    },
    {
      "cell_type": "markdown",
      "metadata": {},
      "source": [
        "## Working with missing electrodes\n\nIn real-world scenarios, electrode grids may have missing or non-functional electrodes.\nThe ``grid_layouts`` parameter allows you to specify these gaps using -1 values.\n\n"
      ]
    },
    {
      "cell_type": "code",
      "execution_count": null,
      "metadata": {
        "collapsed": false
      },
      "outputs": [],
      "source": [
        "# Create a 5\u00d75 grid with some missing electrodes\nmissing_indices = [(0, 0), (2, 2), (4, 4)]  # Positions where electrodes are missing\ngrid_with_gaps = create_grid_layout(\n    5, 5, fill_pattern=\"row\", missing_indices=missing_indices\n)\n\nprint(\"5\u00d75 grid with missing electrodes:\")\nprint(grid_with_gaps)\nprint()\n\n# Create EMG data with 22 channels (25 total positions - 3 missing)\nemg_data_22ch = np.random.randn(22, 1000)\nemg_with_gaps = EMGData(emg_data_22ch, sampling_freq, grid_layouts=[grid_with_gaps])\n\n# Visualize the grid with gaps using the enhanced method\nemg_with_gaps.plot_grid_layout(\n    0,\n    title=\"5\u00d75 Grid with Missing Electrodes\",\n    colorbar=True,\n    figsize=(8, 8),\n    text_fontsize=12,\n)"
      ]
    },
    {
      "cell_type": "markdown",
      "metadata": {},
      "source": [
        "## Multiple electrode grids\n\nMany EMG experiments use multiple electrode grids simultaneously. The ``grid_layouts``\nparameter accepts a list of grids, allowing you to represent complex multi-array setups.\n\n<div class=\"alert alert-info\"><h4>Note</h4><p>In this example, we use consecutive electrode indices for each grid (0-15, then 16-31,\n   then 32-40) without any gaps. This approach offers several practical advantages:\n\n   1. It matches how hardware/acquisition systems typically organize electrode channels,\n      where each grid's electrodes are grouped together in the recording system.\n\n   2. It simplifies data interpretation and visualization, making it easier to identify\n      which channels belong to which physical grid.\n\n   3. It makes it more intuitive to apply grid-specific processing or analysis,\n      as you can easily select channel ranges (e.g., channels 0-15 for grid 1).\n\n   You could use any arbitrary, non-overlapping channel indices for each grid\n   as long as they correctly map to the corresponding channels in your EMG data.</p></div>\n\n"
      ]
    },
    {
      "cell_type": "code",
      "execution_count": null,
      "metadata": {
        "collapsed": false
      },
      "outputs": [],
      "source": [
        "# Create all three grid layouts\ngrid1 = create_grid_layout(4, 4, fill_pattern=\"row\")  # 16 electrodes\ngrid2 = create_grid_layout(4, 4, fill_pattern=\"column\")  # 16 electrodes\ngrid2[grid2 >= 0] += 16  # Shift indices to start after grid1\ngrid3 = create_grid_layout(3, 3, fill_pattern=\"row\")  # 9 electrodes\ngrid3[grid3 >= 0] += 32  # Shift indices to start after grid2\n\n# Calculate total number of electrodes\nn_electrodes = 16 + 16 + 9  # = 41\n\n# Create EMG data with exactly the right number of channels\nemg_data_41ch = np.random.randn(n_electrodes, 1000)\n\n# Create EMGData with the validated class\nemg_multi = EMGData(emg_data_41ch, sampling_freq, grid_layouts=[grid1, grid2, grid3])\n\n# Create a single figure with multiple subplots\nfig, axes = plt.subplots(3, 1, figsize=(5, 15))\nfig.suptitle(\"Multiple Electrode Grids\", fontsize=16)\n\n# We'll use our enhanced plot_grid_layout method with provided axes\n# Let's highlight some electrodes in each grid to demonstrate that feature\nhighlights1 = [5, 10]  # Highlight electrodes 5 and 10 in first grid\nhighlights2 = [20, 25]  # Highlight electrodes 20 and 25 in second grid\nhighlights3 = [35]  # Highlight electrode 35 in third grid\n\n# Plot all three grids on the same figure\nemg_multi.plot_grid_layout(\n    0,\n    title=\"Grid 1: 4\u00d74 Row-wise (0-15)\",\n    colorbar=False,\n    highlight_electrodes=highlights1,\n    ax=axes[0],\n    autoshow=False,\n)\n\nemg_multi.plot_grid_layout(\n    1,\n    title=\"Grid 2: 4\u00d74 Column-wise (16-31)\",\n    colorbar=False,\n    highlight_electrodes=highlights2,\n    ax=axes[1],\n    autoshow=False,\n)\n\nemg_multi.plot_grid_layout(\n    2,\n    title=\"Grid 3: 3\u00d73 Row-wise (32-40)\",\n    colorbar=False,\n    highlight_electrodes=highlights3,\n    ax=axes[2],\n    autoshow=False,\n)\n\n# Now show the complete figure with all three grids\nplt.tight_layout()\nplt.show()"
      ]
    },
    {
      "cell_type": "markdown",
      "metadata": {},
      "source": [
        "Let's also demonstrate what happens when validation fails:\n\n"
      ]
    },
    {
      "cell_type": "code",
      "execution_count": null,
      "metadata": {
        "collapsed": false
      },
      "outputs": [],
      "source": [
        "print(\"\\nDemonstrating validation with incorrect number of channels:\")\ntry:\n    # Create EMG data with the wrong number of channels (40 instead of 41)\n    incorrect_emg_data = np.random.randn(40, 1000)\n\n    # This would fail validation if implemented in EMGData as recommended\n    EMGData(incorrect_emg_data, sampling_freq, grid_layouts=[grid1, grid2, grid3])\n    print(\"Note: In the current version, this doesn't raise an error yet\")\nexcept ValueError as e:\n    print(f\"Validation error: {e}\")\n\nprint(\"\\nDemonstrating validation with out-of-bounds electrode indices:\")\ntry:\n    # Create a grid with an electrode index that's too high\n    invalid_grid = grid3.copy()\n    invalid_grid[0, 0] = 50  # This exceeds our 41 channels\n\n    # This would fail validation if implemented in EMGData as recommended\n    EMGData(emg_data_41ch, sampling_freq, grid_layouts=[grid1, grid2, invalid_grid])\n    print(\"Note: In the current version, this doesn't raise an error yet\")\nexcept ValueError as e:\n    print(f\"Validation error: {e}\")"
      ]
    },
    {
      "cell_type": "markdown",
      "metadata": {},
      "source": [
        "The validation logic described earlier would help ensure electrode indices correctly\nmap to EMG channels, preventing hard-to-debug issues when working with grid_layouts.\n\n"
      ]
    },
    {
      "cell_type": "markdown",
      "metadata": {},
      "source": [
        "## Custom irregular grid shapes\n\nSome electrode arrays have non-rectangular shapes. Let's create a custom\ngrid layout for a circular electrode array.\n\n"
      ]
    },
    {
      "cell_type": "code",
      "execution_count": null,
      "metadata": {
        "collapsed": false
      },
      "outputs": [],
      "source": [
        "# Create a circular-like pattern (8 electrodes in a ring)\ncircular_grid = np.full((3, 3), -1)  # Start with all -1 (no electrodes)\ncircular_grid[0, 1] = 0  # Top\ncircular_grid[1, 2] = 1  # Right\ncircular_grid[2, 1] = 2  # Bottom\ncircular_grid[1, 0] = 3  # Left\ncircular_grid[0, 0] = 4  # Top-left\ncircular_grid[0, 2] = 5  # Top-right\ncircular_grid[2, 2] = 6  # Bottom-right\ncircular_grid[2, 0] = 7  # Bottom-left\n\n# Create EMG data for 8 channels\nemg_data_8ch = np.random.randn(\n    8, 1000\n)  # Use higher amplitude data for better visibility\nemg_circular = EMGData(emg_data_8ch, sampling_freq, grid_layouts=[circular_grid])\n\n# Use the enhanced visualization for the circular grid\nemg_circular.plot_grid_layout(\n    0,\n    title=\"Circular Electrode Arrangement\",\n    figsize=(8, 8),\n    text_fontsize=12,\n    colorbar=True,\n    grid_alpha=0.5,\n    text_color=\"yellow\",\n    highlight_electrodes=[0, 4],  # Highlight a couple of electrodes\n    highlight_color=\"cyan\",\n)"
      ]
    }
  ],
  "metadata": {
    "kernelspec": {
      "display_name": "Python 3",
      "language": "python",
      "name": "python3"
    },
    "language_info": {
      "codemirror_mode": {
        "name": "ipython",
        "version": 3
      },
      "file_extension": ".py",
      "mimetype": "text/x-python",
      "name": "python",
      "nbconvert_exporter": "python",
      "pygments_lexer": "ipython3",
      "version": "3.12.8"
    }
  },
  "nbformat": 4,
  "nbformat_minor": 0
}