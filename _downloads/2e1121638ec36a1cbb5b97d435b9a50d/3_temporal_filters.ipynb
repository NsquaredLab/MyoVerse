{
  "cells": [
    {
      "cell_type": "markdown",
      "metadata": {},
      "source": [
        "\n# Working with Temporal Filters\n\nThis example demonstrates how to use the temporal filters available in MyoVerse.\nTemporal filters process EMG signals in the time domain, such as frequency filtering,\nrectification, and feature extraction like RMS, MAV, etc.\n"
      ]
    },
    {
      "cell_type": "code",
      "execution_count": null,
      "metadata": {
        "collapsed": false
      },
      "outputs": [],
      "source": [
        "import os\nimport pickle as pkl\nimport matplotlib.pyplot as plt\nimport numpy as np\nfrom myoverse.datatypes import EMGData\nfrom scipy.signal import butter\nfrom myoverse.datasets.filters.temporal import (\n    SOSFrequencyFilter,\n    RectifyFilter,\n    RMSFilter,\n    MAVFilter,\n    VARFilter,\n    IAVFilter,\n    WFLFilter,\n    ZCFilter,\n    SSCFilter,\n    SpectralInterpolationFilter,\n)\nfrom myoverse.datasets.filters._template import FilterBaseClass\nfrom scipy.signal import medfilt"
      ]
    },
    {
      "cell_type": "markdown",
      "metadata": {},
      "source": [
        "## Loading data\nFirst we load example EMG data\n\n"
      ]
    },
    {
      "cell_type": "code",
      "execution_count": null,
      "metadata": {
        "collapsed": false
      },
      "outputs": [],
      "source": [
        "# Get the path to the data file\ndata_path = os.path.join(\"..\", \"data\", \"emg.pkl\")\n\nwith open(data_path, \"rb\") as f:\n    emg_data = {k: EMGData(v, sampling_frequency=2044) for k, v in pkl.load(f).items()}\n\n# Use task 1 data for our examples\ntask_one_data = emg_data[\"1\"]\nprint(\"EMG data loaded:\", task_one_data)"
      ]
    },
    {
      "cell_type": "markdown",
      "metadata": {},
      "source": [
        "## Visualizing the raw signal\n\n"
      ]
    },
    {
      "cell_type": "code",
      "execution_count": null,
      "metadata": {
        "collapsed": false
      },
      "outputs": [],
      "source": [
        "plt.figure(figsize=(12, 4))\nraw_emg = task_one_data.input_data\nchannel = 0  # Choose one channel for visualization\n\n# Plot first 5 seconds of data\ntime_in_sec = 5\nsamples_to_plot = int(time_in_sec * task_one_data.sampling_frequency)\n\nplt.plot(raw_emg[channel, :samples_to_plot], color=\"blue\")\nplt.title(\"Raw EMG Signal (Channel 0)\")\nplt.xlabel(\"Samples\")\nplt.ylabel(\"Amplitude\")\nplt.grid(True, linestyle=\"--\", alpha=0.7)\nplt.show()"
      ]
    },
    {
      "cell_type": "markdown",
      "metadata": {},
      "source": [
        "## 1. Basic Frequency Filtering\n\nFrequency filtering is one of the most important preprocessing steps for EMG signals.\nLet's apply a bandpass filter to remove noise and extract the useful EMG frequency band.\n\n"
      ]
    },
    {
      "cell_type": "code",
      "execution_count": null,
      "metadata": {
        "collapsed": false
      },
      "outputs": [],
      "source": [
        "# Define the filter parameters for a bandpass filter (typical EMG range: 20-450 Hz)\nFILTER_ORDER = 4\nLOW_CUT = 20  # Hz\nHIGH_CUT = 450  # Hz\nSAMPLING_FREQ = 2044  # Hz\n\n# Create bandpass filter coefficients\nsos_bandpass = butter(\n    FILTER_ORDER, [LOW_CUT, HIGH_CUT], btype=\"bandpass\", output=\"sos\", fs=SAMPLING_FREQ\n)\n\n# Create the MyoVerse filter\nbandpass_filter = SOSFrequencyFilter(\n    sos_filter_coefficients=sos_bandpass,\n    is_output=True,\n    name=\"Bandpass\",\n    input_is_chunked=False,\n)\n\n# Apply the filter\ntask_one_data.apply_filter(bandpass_filter, representations_to_filter=[\"Input\"])\n\n# Visualize the raw vs filtered signal\nplt.figure(figsize=(12, 8))\n\nplt.subplot(2, 1, 1)\nplt.plot(raw_emg[channel, :samples_to_plot], color=\"blue\")\nplt.title(\"Raw EMG Signal\")\nplt.ylabel(\"Amplitude\")\nplt.grid(True, linestyle=\"--\", alpha=0.7)\n\nplt.subplot(2, 1, 2)\nfiltered_emg = task_one_data[\"Bandpass\"]\nplt.plot(filtered_emg[channel, :samples_to_plot], color=\"red\")\nplt.title(f\"Bandpass Filtered EMG ({LOW_CUT}-{HIGH_CUT} Hz)\")\nplt.xlabel(\"Samples\")\nplt.ylabel(\"Amplitude\")\nplt.grid(True, linestyle=\"--\", alpha=0.7)\n\nplt.tight_layout()\nplt.show()"
      ]
    },
    {
      "cell_type": "markdown",
      "metadata": {},
      "source": [
        "## 2. Rectification\n\nRectification is a common step in EMG processing that converts negative values to positive,\nmaking the signal suitable for envelope extraction.\n\n"
      ]
    },
    {
      "cell_type": "code",
      "execution_count": null,
      "metadata": {
        "collapsed": false
      },
      "outputs": [],
      "source": [
        "# Create a rectification filter\nrectify_filter = RectifyFilter(input_is_chunked=False, is_output=True, name=\"Rectified\")\n\n# Apply the filter to the bandpass filtered data\ntask_one_data.apply_filter(rectify_filter, representations_to_filter=[\"Bandpass\"])\n\n# Visualize the filtered vs rectified signal\nplt.figure(figsize=(12, 8))\n\nplt.subplot(2, 1, 1)\nplt.plot(filtered_emg[channel, :samples_to_plot], color=\"red\")\nplt.title(\"Bandpass Filtered EMG\")\nplt.ylabel(\"Amplitude\")\nplt.grid(True, linestyle=\"--\", alpha=0.7)\n\nplt.subplot(2, 1, 2)\nrectified_emg = task_one_data[\"Rectified\"]\nplt.plot(rectified_emg[channel, :samples_to_plot], color=\"green\")\nplt.title(\"Rectified EMG\")\nplt.xlabel(\"Samples\")\nplt.ylabel(\"Amplitude\")\nplt.grid(True, linestyle=\"--\", alpha=0.7)\n\nplt.tight_layout()\nplt.show()"
      ]
    },
    {
      "cell_type": "markdown",
      "metadata": {},
      "source": [
        "## 3. RMS Feature Extraction\n\nRoot Mean Square (RMS) is a common feature extracted from EMG that represents\nthe power of the signal over time windows.\n\n"
      ]
    },
    {
      "cell_type": "code",
      "execution_count": null,
      "metadata": {
        "collapsed": false
      },
      "outputs": [],
      "source": [
        "# Define parameters for RMS calculation\nWINDOW_SIZE = 400  # ~200ms at 2044 Hz\nSHIFT = 100  # ~50ms step size for overlapping windows\n\n# Create RMS filter\nrms_filter = RMSFilter(\n    input_is_chunked=False,\n    is_output=True,\n    name=\"RMS\",\n    window_size=WINDOW_SIZE,\n    shift=SHIFT,\n)\n\n# Apply RMS filter to the rectified data\ntask_one_data.apply_filter(rms_filter, representations_to_filter=[\"Rectified\"])\n\n# Get the RMS feature\nrms_feature = task_one_data[\"RMS\"]\n\n# Visualize the rectified signal and its RMS envelope\nplt.figure(figsize=(12, 8))\n\n# Determine how many RMS samples we have for our 5-second window\nrms_samples_to_plot = len(rms_feature[channel])\n\n# Calculate timestamps for proper alignment\ntime_raw = np.arange(samples_to_plot) / SAMPLING_FREQ\ntime_rms = np.arange(rms_samples_to_plot) * SHIFT / SAMPLING_FREQ\n\nplt.subplot(2, 1, 1)\nplt.plot(time_raw, rectified_emg[channel, :samples_to_plot], color=\"green\", alpha=0.7)\nplt.title(\"Rectified EMG\")\nplt.ylabel(\"Amplitude\")\nplt.grid(True, linestyle=\"--\", alpha=0.7)\n\nplt.subplot(2, 1, 2)\nplt.plot(\n    time_rms, rms_feature[channel, :rms_samples_to_plot], color=\"purple\", linewidth=2\n)\nplt.title(\n    f\"RMS Feature (Window: {WINDOW_SIZE / SAMPLING_FREQ:.2f}s, Shift: {SHIFT / SAMPLING_FREQ:.2f}s)\"\n)\nplt.xlabel(\"Time (seconds)\")\nplt.ylabel(\"RMS Amplitude\")\nplt.grid(True, linestyle=\"--\", alpha=0.7)\n\nplt.tight_layout()\nplt.show()"
      ]
    },
    {
      "cell_type": "markdown",
      "metadata": {},
      "source": [
        "## 4. Comparing Multiple Temporal Features\n\nMyoVerse provides several temporal features for EMG analysis.\nLet's compare some of the most commonly used ones.\n\n"
      ]
    },
    {
      "cell_type": "code",
      "execution_count": null,
      "metadata": {
        "collapsed": false
      },
      "outputs": [],
      "source": [
        "# Create a copy of our data for multiple features\nfeature_data = EMGData(task_one_data.input_data, sampling_frequency=2044)\n\n# Apply the same bandpass and rectification\nfeature_data.apply_filter(bandpass_filter, representations_to_filter=[\"Input\"])\nfeature_data.apply_filter(rectify_filter, representations_to_filter=[\"Bandpass\"])\n\n# Create filters for different features with same window parameters\nmav_filter = MAVFilter(\n    input_is_chunked=False,\n    is_output=True,\n    name=\"MAV\",\n    window_size=WINDOW_SIZE,\n    shift=SHIFT,\n)\n\nvar_filter = VARFilter(\n    input_is_chunked=False,\n    is_output=True,\n    name=\"VAR\",\n    window_size=WINDOW_SIZE,\n    shift=SHIFT,\n)\n\niav_filter = IAVFilter(\n    input_is_chunked=False,\n    is_output=True,\n    name=\"IAV\",\n    window_size=WINDOW_SIZE,\n    shift=SHIFT,\n)\n\n# Apply the filters\nfeature_data.apply_filter(rms_filter, representations_to_filter=[\"Rectified\"])\nfeature_data.apply_filter(mav_filter, representations_to_filter=[\"Rectified\"])\nfeature_data.apply_filter(var_filter, representations_to_filter=[\"Rectified\"])\nfeature_data.apply_filter(iav_filter, representations_to_filter=[\"Rectified\"])\n\n# Extract all features\nrms_feature = feature_data[\"RMS\"]\nmav_feature = feature_data[\"MAV\"]\nvar_feature = feature_data[\"VAR\"]\niav_feature = feature_data[\"IAV\"]\n\n\n# Normalize each feature for better visualization\ndef normalize(x):\n    return (x - np.min(x)) / (np.max(x) - np.min(x))\n\n\n# Plot all features\nplt.figure(figsize=(12, 10))\n\n# Original rectified signal\nplt.subplot(5, 1, 1)\nplt.plot(\n    time_raw,\n    feature_data[\"Rectified\"][channel, :samples_to_plot],\n    color=\"green\",\n    alpha=0.7,\n)\nplt.title(\"Rectified EMG\")\nplt.ylabel(\"Amplitude\")\nplt.grid(True, linestyle=\"--\", alpha=0.7)\n\n# RMS\nplt.subplot(5, 1, 2)\nplt.plot(\n    time_rms, normalize(rms_feature[channel, :rms_samples_to_plot]), color=\"purple\"\n)\nplt.title(\"RMS Feature (Normalized)\")\nplt.ylabel(\"Amplitude\")\nplt.grid(True, linestyle=\"--\", alpha=0.7)\n\n# MAV\nplt.subplot(5, 1, 3)\nplt.plot(time_rms, normalize(mav_feature[channel, :rms_samples_to_plot]), color=\"blue\")\nplt.title(\"MAV Feature (Normalized)\")\nplt.ylabel(\"Amplitude\")\nplt.grid(True, linestyle=\"--\", alpha=0.7)\n\n# VAR\nplt.subplot(5, 1, 4)\nplt.plot(time_rms, normalize(var_feature[channel, :rms_samples_to_plot]), color=\"red\")\nplt.title(\"VAR Feature (Normalized)\")\nplt.ylabel(\"Amplitude\")\nplt.grid(True, linestyle=\"--\", alpha=0.7)\n\n# IAV\nplt.subplot(5, 1, 5)\nplt.plot(\n    time_rms, normalize(iav_feature[channel, :rms_samples_to_plot]), color=\"orange\"\n)\nplt.title(\"IAV Feature (Normalized)\")\nplt.xlabel(\"Time (seconds)\")\nplt.ylabel(\"Amplitude\")\nplt.grid(True, linestyle=\"--\", alpha=0.7)\n\nplt.tight_layout()\nplt.show()"
      ]
    },
    {
      "cell_type": "markdown",
      "metadata": {},
      "source": [
        "## 5. Frequency-Domain Features\n\nMyoVerse also provides tools for handling frequency-related problems.\nLet's demonstrate the use of SpectralInterpolationFilter to remove power line noise.\n\n"
      ]
    },
    {
      "cell_type": "code",
      "execution_count": null,
      "metadata": {
        "collapsed": false
      },
      "outputs": [],
      "source": [
        "# Create a new instance with original data\npower_line_data = EMGData(task_one_data.input_data, sampling_frequency=2044)\n\n# Create a spectral interpolation filter to remove 50Hz noise\nspec_filter = SpectralInterpolationFilter(\n    input_is_chunked=False,\n    is_output=True,\n    name=\"SpecInterp\",\n    bandwidth=(48, 52),  # 50Hz +/- 2Hz\n    number_of_harmonics=3,  # Remove also 100Hz and 150Hz\n    sampling_frequency=2044,\n    interpolation_window=15,\n    interpolation_poly_order=3,\n)\n\n# Apply the filter\npower_line_data.apply_filter(spec_filter, representations_to_filter=[\"Input\"])\n\n# Apply bandpass for comparison with other methods\npower_line_data.apply_filter(bandpass_filter, representations_to_filter=[\"Input\"])\n\n\n# Calculate FFT for visualization\ndef calculate_fft(signal, fs):\n    n = len(signal)\n    fft_result = np.fft.rfft(signal)\n    fft_mag = np.abs(fft_result) / n\n    freq = np.fft.rfftfreq(n, 1 / fs)\n    return freq, fft_mag\n\n\n# Get frequency data\nfreq_raw, fft_raw = calculate_fft(task_one_data.input_data[channel, :4096], 2044)\nfreq_cleaned, fft_cleaned = calculate_fft(\n    power_line_data[\"SpecInterp\"][channel, :4096], 2044\n)\nfreq_bandpass, fft_bandpass = calculate_fft(\n    power_line_data[\"Bandpass\"][channel, :4096], 2044\n)\n\n# Plot the frequency domain for comparison\nplt.figure(figsize=(12, 10))\n\n# Time domain signals\nplt.subplot(3, 1, 1)\nplt.plot(task_one_data.input_data[channel, :samples_to_plot], color=\"blue\")\nplt.title(\"Raw EMG Signal\")\nplt.ylabel(\"Amplitude\")\nplt.grid(True, linestyle=\"--\", alpha=0.7)\n\n# FFT of the raw signal\nplt.subplot(3, 1, 2)\nplt.plot(freq_raw, fft_raw, color=\"blue\")\nplt.axvline(x=50, color=\"red\", linestyle=\"--\", label=\"50 Hz (Power line)\")\nplt.axvline(x=100, color=\"red\", linestyle=\"--\", alpha=0.7)\nplt.axvline(x=150, color=\"red\", linestyle=\"--\", alpha=0.7)\nplt.title(\"Frequency Spectrum - Raw Signal\")\nplt.ylabel(\"Magnitude\")\nplt.grid(True, linestyle=\"--\", alpha=0.7)\nplt.xlim(0, 500)\nplt.legend()\n\n# FFT of the cleaned signal\nplt.subplot(3, 1, 3)\nplt.plot(freq_cleaned, fft_cleaned, color=\"green\", label=\"Spectral Interpolation\")\nplt.plot(\n    freq_bandpass, fft_bandpass, color=\"orange\", alpha=0.7, label=\"Bandpass Filter\"\n)\nplt.axvline(x=50, color=\"red\", linestyle=\"--\", label=\"50 Hz (Power line)\")\nplt.axvline(x=100, color=\"red\", linestyle=\"--\", alpha=0.7)\nplt.axvline(x=150, color=\"red\", linestyle=\"--\", alpha=0.7)\nplt.title(\"Frequency Spectrum - Filtered Signals\")\nplt.xlabel(\"Frequency (Hz)\")\nplt.ylabel(\"Magnitude\")\nplt.grid(True, linestyle=\"--\", alpha=0.7)\nplt.xlim(0, 500)\nplt.legend()\n\nplt.tight_layout()\nplt.show()"
      ]
    },
    {
      "cell_type": "markdown",
      "metadata": {},
      "source": [
        "## 6. Real-time Processing with SOSFrequencyFilter\n\nMyoVerse's filters can also be used for real-time processing. Here we'll demonstrate\nhow to use the real-time mode of SOSFrequencyFilter for streaming applications.\n\n"
      ]
    },
    {
      "cell_type": "code",
      "execution_count": null,
      "metadata": {
        "collapsed": false
      },
      "outputs": [],
      "source": [
        "# Create a filter for real-time processing\nrealtime_filter = SOSFrequencyFilter(\n    sos_filter_coefficients=sos_bandpass,\n    is_output=True,\n    name=\"Realtime\",\n    input_is_chunked=True,  # Now using chunked mode\n    forwards_and_backwards=False,  # Must be False for real-time\n    use_continuous_approach=False,  # Must be False for real-time\n    real_time_mode=True,  # Enable real-time streaming mode\n)\n\n# Chunk the data to simulate streaming\nchunk_size = 204  # ~100ms chunks\nn_chunks = 10  # Process 10 chunks (1 second)\n\n# Create chunked data\nchunked_data = np.zeros((n_chunks, task_one_data.input_data.shape[0], chunk_size))\nfor i in range(n_chunks):\n    chunked_data[i] = task_one_data.input_data[:, i * chunk_size : (i + 1) * chunk_size]\n\n# Create a new EMGData object with chunked input\nchunked_emg = EMGData(chunked_data, sampling_frequency=2044)\n\n# Apply the real-time filter\nchunked_emg.apply_filter(realtime_filter, representations_to_filter=[\"Input\"])\n\n# Visualize the results\nplt.figure(figsize=(12, 8))\n\n# Plot original chunks\nplt.subplot(2, 1, 1)\nchannel_to_plot = 0\nfor i in range(n_chunks):\n    chunk_start = i * chunk_size\n    plt.plot(\n        np.arange(chunk_start, chunk_start + chunk_size),\n        chunked_data[i, channel_to_plot],\n        color=f\"C{i}\",\n    )\n    plt.axvline(x=chunk_start, color=\"black\", linestyle=\":\", alpha=0.3)\n\nplt.title(\"Original Signal (Chunked)\")\nplt.ylabel(\"Amplitude\")\nplt.grid(True, linestyle=\"--\", alpha=0.7)\n\n# Plot filtered chunks\nplt.subplot(2, 1, 2)\nfiltered_chunks = chunked_emg[\"Realtime\"]\nfor i in range(n_chunks):\n    chunk_start = i * chunk_size\n    plt.plot(\n        np.arange(chunk_start, chunk_start + chunk_size),\n        filtered_chunks[i, channel_to_plot],\n        color=f\"C{i}\",\n    )\n    plt.axvline(x=chunk_start, color=\"black\", linestyle=\":\", alpha=0.3)\n\nplt.title(\"Real-time Filtered Signal\")\nplt.xlabel(\"Samples\")\nplt.ylabel(\"Amplitude\")\nplt.grid(True, linestyle=\"--\", alpha=0.7)\n\nplt.tight_layout()\nplt.show()"
      ]
    },
    {
      "cell_type": "markdown",
      "metadata": {},
      "source": [
        "## 7. Creating Your Own Custom Temporal Filter\n\nOne of the strengths of MyoVerse is the ability to create custom filters.\nLet's create a custom temporal filter that applies median filtering to the EMG signal.\n\n"
      ]
    },
    {
      "cell_type": "code",
      "execution_count": null,
      "metadata": {
        "collapsed": false
      },
      "outputs": [],
      "source": [
        "class MedianFilter(FilterBaseClass):\n    \"\"\"Custom filter that applies median filtering to the EMG signal.\n\n    Parameters\n    ----------\n    input_is_chunked : bool\n        Whether the input is chunked or not.\n    is_output : bool\n        Whether the filter is an output filter.\n    name : str | None\n        Name of the filter, by default None.\n    run_checks : bool\n        Whether to run the checks when filtering.\n    kernel_size : int\n        Size of the median filter kernel. Must be odd.\n    \"\"\"\n\n    def __init__(\n        self,\n        input_is_chunked: bool,\n        is_output: bool = False,\n        name: str | None = None,\n        run_checks: bool = True,\n        *,\n        kernel_size: int = 5,\n    ):\n        super().__init__(\n            input_is_chunked=input_is_chunked,\n            allowed_input_type=\"both\",  # Works with both chunked and non-chunked data\n            is_output=is_output,\n            name=name,\n            run_checks=run_checks,\n        )\n\n        # Ensure kernel size is odd\n        if kernel_size % 2 == 0:\n            raise ValueError(\"Kernel size must be odd\")\n\n        self.kernel_size = kernel_size\n\n    def _filter(self, input_array: np.ndarray, **kwargs) -> np.ndarray:\n        \"\"\"Apply median filtering to the input array.\n\n        Parameters\n        ----------\n        input_array : numpy.ndarray\n            Input array to filter.\n        **kwargs\n            Additional keyword arguments from the Data object.\n\n        Returns\n        -------\n        numpy.ndarray\n            Filtered array.\n        \"\"\"\n        # Get the shape of the input array\n        original_shape = input_array.shape\n\n        # Handle different input shapes\n        if not self.input_is_chunked:\n            # Non-chunked case: apply median filter to each channel\n            output_array = np.zeros_like(input_array)\n            for channel in range(original_shape[0]):\n                output_array[channel] = medfilt(\n                    input_array[channel], kernel_size=self.kernel_size\n                )\n\n            return output_array\n        else:\n            # Chunked case: apply median filter to each channel in each chunk\n            output_array = np.zeros_like(input_array)\n\n            # Loop through each chunk\n            for chunk in range(original_shape[0]):\n                # Loop through each channel\n                for channel in range(original_shape[1]):\n                    output_array[chunk, channel] = medfilt(\n                        input_array[chunk, channel], kernel_size=self.kernel_size\n                    )\n\n            return output_array\n\n\n# Create a new instance with original data\ncustom_filter_data = EMGData(task_one_data.input_data, sampling_frequency=2044)\n\n# Create our custom median filter\nmedian_filter = MedianFilter(\n    input_is_chunked=False,\n    is_output=True,\n    name=\"MedianFiltered\",\n    kernel_size=11,  # Use a larger kernel to make the effect more visible\n)\n\n# Apply our custom filter\ncustom_filter_data.apply_filter(median_filter, representations_to_filter=[\"Input\"])\n\n# Visualize the result\nplt.figure(figsize=(12, 8))\n\nplt.subplot(2, 1, 1)\nplt.plot(raw_emg[channel, :samples_to_plot], color=\"blue\")\nplt.title(\"Raw EMG Signal\")\nplt.ylabel(\"Amplitude\")\nplt.grid(True, linestyle=\"--\", alpha=0.7)\n\nplt.subplot(2, 1, 2)\nmedian_filtered = custom_filter_data[\"MedianFiltered\"]\nplt.plot(median_filtered[channel, :samples_to_plot], color=\"purple\")\nplt.title(f\"Custom Median Filtered EMG (Kernel Size: {median_filter.kernel_size})\")\nplt.xlabel(\"Samples\")\nplt.ylabel(\"Amplitude\")\nplt.grid(True, linestyle=\"--\", alpha=0.7)\n\nplt.tight_layout()\nplt.show()"
      ]
    },
    {
      "cell_type": "markdown",
      "metadata": {},
      "source": [
        "This example demonstrates how to create custom filters in MyoVerse.\nYou can extend the FilterBaseClass to create any filter you need,\nopening up possibilities for specialized EMG processing techniques.\n\n"
      ]
    }
  ],
  "metadata": {
    "kernelspec": {
      "display_name": "Python 3",
      "language": "python",
      "name": "python3"
    },
    "language_info": {
      "codemirror_mode": {
        "name": "ipython",
        "version": 3
      },
      "file_extension": ".py",
      "mimetype": "text/x-python",
      "name": "python",
      "nbconvert_exporter": "python",
      "pygments_lexer": "ipython3",
      "version": "3.12.8"
    }
  },
  "nbformat": 4,
  "nbformat_minor": 0
}