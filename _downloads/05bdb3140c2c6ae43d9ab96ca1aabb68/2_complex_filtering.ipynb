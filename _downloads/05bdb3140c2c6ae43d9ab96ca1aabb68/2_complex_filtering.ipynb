{
  "cells": [
    {
      "cell_type": "markdown",
      "metadata": {},
      "source": [
        "\n# Complex filtering\n\nThis example shows how to apply a complex filter sequence to the data.\n"
      ]
    },
    {
      "cell_type": "markdown",
      "metadata": {},
      "source": [
        "## Loading data and selection one task for simplicity\nJust as in the previous example we load the EMG example data and convert it to a MyoVerse Data object.\nAfterward, we select one task to work with.\n\n"
      ]
    },
    {
      "cell_type": "code",
      "execution_count": null,
      "metadata": {
        "collapsed": false
      },
      "outputs": [],
      "source": [
        "import pickle as pkl\nfrom copy import copy\n\nimport numpy as np\n\nfrom myoverse.datatypes import EMGData\n\nemg_data = {}\nwith open(\"data/emg.pkl\", \"rb\") as f:\n    for k, v in pkl.load(f).items():\n        emg_data[k] = EMGData(v, sampling_frequency=2044)\n\nprint(emg_data)\n\ntask_one_data = copy(emg_data[\"1\"])\n\nprint(task_one_data)"
      ]
    },
    {
      "cell_type": "markdown",
      "metadata": {},
      "source": [
        "## Applying a basic filter sequence\nA common filter sequence used by us in our deep learning papers is to first apply a bandpass between 47.5 and 52.5 Hz\nto remove the powerline noise.\n\nThen we copied this filtered data and applied a lowpass filter at 20 Hz to remove high-frequency noise.\nThe deep learning models were thus trained with 2 representations of the data, one with the powerline noise removed and one with the high-frequency noise removed.\n\nWe can achieve this by applying two filters to the data using the apply_filters method.\n\n<div class=\"alert alert-info\"><h4>Note</h4><p>Please run this code on your local machine as the plots are interactive and information can be seen by hovering over the nodes.</p></div>\n\n"
      ]
    },
    {
      "cell_type": "code",
      "execution_count": null,
      "metadata": {
        "collapsed": false
      },
      "outputs": [],
      "source": [
        "from scipy.signal import butter\n\nfrom myoverse.datasets.filters.temporal import SOSFrequencyFilter\n\n# Define the filters\nbandpass_filter = SOSFrequencyFilter(\n    sos_filter_coefficients=butter(4, [47.5, 52.5], \"bandpass\", output=\"sos\", fs=2044),\n    is_output=True,\n    name=\"Bandpass 50\",\n)\nlowpass_filter = SOSFrequencyFilter(\n    sos_filter_coefficients=butter(4, 20, \"lowpass\", output=\"sos\", fs=2044),\n    is_output=True,\n    name=\"Lowpass 20\",\n)\n\n# Apply the filters\ntask_one_data.apply_filter_sequence(\n    filter_sequence=[bandpass_filter, lowpass_filter], representation_to_filter=\"Input\"\n)\n\nprint()\nprint(task_one_data)\n\ntask_one_data.plot_graph()"
      ]
    },
    {
      "cell_type": "markdown",
      "metadata": {},
      "source": [
        "## Applying a complex filter sequence\nIn this example we will apply a more complex filter sequence to the data.\n\nThe filter shall apply the following steps:\n\n1. Chunk the data into 100 ms windows.\n\n2. Apply a bandpass filter between 47.5 and 52.5 Hz to remove powerline noise.\n\n3. Copy the filtered data and apply a lowpass filter at 20 Hz to remove high-frequency noise.\n4. Compute the root mean square of the data from step 3.\n\n5. The other copy of step 2 should be used to calculate the root mean square directly.\n\nThe computation graph for this filter sequence is shown below:\n\n1 -> 2 -> 3 -> 4\n     L --------> 5\n\nWe can achieve this by applying five filters to the data using the **apply_filter_sequence** method and setting the is_output\nflag to True for the filters that should be kept in the dataset object.\n\n"
      ]
    },
    {
      "cell_type": "code",
      "execution_count": null,
      "metadata": {
        "collapsed": false
      },
      "outputs": [],
      "source": [
        "from myoverse.datasets.filters.generic import ChunkizeDataFilter, ApplyFunctionFilter\nfrom myoverse.datasets.filters.temporal import SOSFrequencyFilter\n\n# reset the data\ntask_one_data = copy(emg_data[\"1\"])\n\n# Define the filters\nbandpass_filter = butter(4, [47.5, 52.5], \"bandpass\", output=\"sos\", fs=2044)\nlowpass_filter = butter(4, 20, \"lowpass\", output=\"sos\", fs=2044)"
      ]
    },
    {
      "cell_type": "markdown",
      "metadata": {},
      "source": [
        "## Apply the filters for steps 1 and 2\n\n"
      ]
    },
    {
      "cell_type": "code",
      "execution_count": null,
      "metadata": {
        "collapsed": false
      },
      "outputs": [],
      "source": [
        "task_one_data.apply_filter_sequence(\n    filter_sequence=[\n        ChunkizeDataFilter(chunk_size=192, chunk_shift=64),\n        SOSFrequencyFilter(sos_filter_coefficients=bandpass_filter, name=\"Bandpass 50\"),\n    ],\n    representation_to_filter=\"Input\",\n)\n\nprint(task_one_data)\n\ntask_one_data.plot_graph()"
      ]
    },
    {
      "cell_type": "markdown",
      "metadata": {},
      "source": [
        "## Apply the filters for step 3 and 4\n\n"
      ]
    },
    {
      "cell_type": "code",
      "execution_count": null,
      "metadata": {
        "collapsed": false
      },
      "outputs": [],
      "source": [
        "task_one_data.apply_filter_sequence(\n    filter_sequence=[\n        SOSFrequencyFilter(sos_filter_coefficients=lowpass_filter, name=\"Lowpass 20\"),\n        ApplyFunctionFilter(\n            function=lambda x: np.sqrt(np.mean(np.square(x), axis=-1)),\n            is_output=True,\n            name=\"RMS on Lowpass 20\",\n        ),\n    ],\n    representation_to_filter=\"Bandpass 50\",\n)\n\nprint(task_one_data)\n\ntask_one_data.plot_graph()"
      ]
    },
    {
      "cell_type": "markdown",
      "metadata": {},
      "source": [
        "## Apply the filters for step 5\n\n"
      ]
    },
    {
      "cell_type": "code",
      "execution_count": null,
      "metadata": {
        "collapsed": false
      },
      "outputs": [],
      "source": [
        "task_one_data.apply_filter(\n    ApplyFunctionFilter(\n        function=lambda x: np.sqrt(np.mean(np.square(x), axis=-1)),\n        is_output=True,\n        name=\"RMS on Bandpass 50\",\n    ),\n    representation_to_filter=\"Bandpass 50\",\n)\n\nprint(task_one_data)\n\ntask_one_data.plot_graph()"
      ]
    },
    {
      "cell_type": "markdown",
      "metadata": {},
      "source": [
        "## Displaying the output\n\n"
      ]
    },
    {
      "cell_type": "code",
      "execution_count": null,
      "metadata": {
        "collapsed": false
      },
      "outputs": [],
      "source": [
        "import matplotlib.pyplot as plt\n\nplt.rcParams.update({\"font.size\": 14})\n\nfilter_sequences = {0: \"1->2->3->4\", 1: \"1->2->5\"}\n\n# make 2 subplots\nfig, axs = plt.subplots(2, sharex=True, sharey=True)\n\nfor i, (key, value) in enumerate(task_one_data.output_representations.items()):\n    for channel in range(value.shape[-1]):\n        axs[i].plot(value[:, channel], color=\"black\", alpha=0.01)\n\n    axs[i].set_title(f\"Filter sequence: {filter_sequences[i]}\")\n    axs[i].set_ylabel(\"Amplitude (a. u.)\")\n\nplt.xlabel(\"Samples (a. u.)\")\n\nplt.tight_layout()\nplt.show()"
      ]
    },
    {
      "cell_type": "markdown",
      "metadata": {},
      "source": [
        "## Easier way of applying the filter pipeline\nThis can be achieved in a more concise way by using the **apply_filter_pipeline** method.\n\nTo reduce memory usage, we can set the **keep_individual_filter_steps** flag to False.\nThis will remove the intermediate representations (shown in grey) from the dataset object.\n\n<div class=\"alert alert-info\"><h4>Note</h4><p>If new filters rely on the intermediate representations, they will be recalculated which can be computationally expensive.</p></div>\n\n"
      ]
    },
    {
      "cell_type": "code",
      "execution_count": null,
      "metadata": {
        "collapsed": false
      },
      "outputs": [],
      "source": [
        "task_one_data = copy(emg_data[\"1\"])\n\nprint(task_one_data)\n\n# Apply the filters\ntask_one_data.apply_filter_pipeline(\n    filter_pipeline=[\n        [\n            ChunkizeDataFilter(chunk_size=192, chunk_shift=64),\n            SOSFrequencyFilter(\n                sos_filter_coefficients=bandpass_filter, name=\"Bandpass 50\"\n            ),\n            SOSFrequencyFilter(\n                sos_filter_coefficients=lowpass_filter, name=\"Lowpass 20\"\n            ),\n            ApplyFunctionFilter(\n                function=lambda x: np.sqrt(np.mean(np.square(x), axis=-1)),\n                is_output=True,\n                name=\"RMS on Lowpass 20\",\n            ),\n        ],\n        [\n            ApplyFunctionFilter(\n                function=lambda x: np.sqrt(np.mean(np.square(x), axis=-1)),\n                is_output=True,\n                name=\"RMS on Bandpass 50\",\n            )\n        ],\n    ],\n    representations_to_filter=[\"Input\", \"Bandpass 50\"],\n    keep_individual_filter_steps=False,\n)\n\nprint(task_one_data)\n\ntask_one_data.plot_graph()"
      ]
    }
  ],
  "metadata": {
    "kernelspec": {
      "display_name": "Python 3",
      "language": "python",
      "name": "python3"
    },
    "language_info": {
      "codemirror_mode": {
        "name": "ipython",
        "version": 3
      },
      "file_extension": ".py",
      "mimetype": "text/x-python",
      "name": "python",
      "nbconvert_exporter": "python",
      "pygments_lexer": "ipython3",
      "version": "3.12.8"
    }
  },
  "nbformat": 4,
  "nbformat_minor": 0
}