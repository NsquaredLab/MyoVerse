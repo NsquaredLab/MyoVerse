{
  "cells": [
    {
      "cell_type": "markdown",
      "metadata": {},
      "source": [
        "\n# Package basics\n\nThis example is a brief introduction to the basic functionalities of the package.\n"
      ]
    },
    {
      "cell_type": "markdown",
      "metadata": {},
      "source": [
        "## Loading data\nFirst we load the EMG example data and convert it to a MyoVerse Data object.\nThe Data object is the primary component of the package, designed to store data and apply filters.\nThe only required parameter is the sampling frequency of the data and the data itself.\n\n"
      ]
    },
    {
      "cell_type": "code",
      "execution_count": null,
      "metadata": {
        "collapsed": false
      },
      "outputs": [],
      "source": [
        "import pickle as pkl\nfrom myoverse.datatypes import EMGData\n\nwith open(\"data/emg.pkl\", \"rb\") as f:\n    emg_data =  {k: EMGData(v, sampling_frequency=2044) for k, v in pkl.load(f).items()}\n\nprint(emg_data)"
      ]
    },
    {
      "cell_type": "markdown",
      "metadata": {},
      "source": [
        "## Looking at one specific task for simplicity\nThe example data contains EMG from two different tasks labeled as \"1\" and \"2\".\nIn the following we will only look at task 1 to explain the filtering functionalities.\n\n"
      ]
    },
    {
      "cell_type": "code",
      "execution_count": null,
      "metadata": {
        "collapsed": false
      },
      "outputs": [],
      "source": [
        "task_one_data = emg_data[\"1\"]\n\nprint(task_one_data)"
      ]
    },
    {
      "cell_type": "markdown",
      "metadata": {},
      "source": [
        "## Understanding the saving format\nThe EMGData object has an **input_data** attribute that stores the raw data.\n\nThe raw data is also added to the **processed_representations** attribute with the key \"Input\".\nThe processed_representations attribute is a dictionary where all filtering sequences are stored.\nAt the beginning this dictionary contains only the raw data.\n\nThe attribute **is_chunked** is a dictionary that stores if the data of a particular representation is chunked or not.\n\nThe attribute **output_representations** is a dictionary that stores the representation that will be outputted by the dataset pipeline.\n\n"
      ]
    },
    {
      "cell_type": "code",
      "execution_count": null,
      "metadata": {
        "collapsed": false
      },
      "outputs": [],
      "source": [
        "print(task_one_data.input_data)"
      ]
    },
    {
      "cell_type": "markdown",
      "metadata": {},
      "source": [
        "## Plotting the raw data\nWe can plot the raw data using matplotlib.\n\n"
      ]
    },
    {
      "cell_type": "code",
      "execution_count": null,
      "metadata": {
        "collapsed": false
      },
      "outputs": [],
      "source": [
        "import matplotlib.pyplot as plt\nimport numpy as np\n\nraw_emg = task_one_data.input_data\n\n# set plt font size\nplt.rcParams.update({\"font.size\": 14})\n\nfor channel in range(raw_emg.shape[0]):\n    plt.plot(raw_emg[channel], color=\"black\", alpha=0.1)\n\nplt.title(\"Raw EMG data\")\nplt.ylabel(\"Amplitude (a. u.)\")\nplt.xticks(\n    np.arange(0, raw_emg.shape[-1] + 1, 2044).astype(int),\n    np.arange(0, raw_emg.shape[-1] / 2044 + 1, 1).astype(int),\n)\nplt.xlabel(\"Time (s)\")\n\nplt.tight_layout()\nplt.show()"
      ]
    },
    {
      "cell_type": "markdown",
      "metadata": {},
      "source": [
        "## Attributes of the EMGData object\nAny Data object, of which EMGData is inheriting from, posses a processed_representations attribute where filtered data  will be stored.\n\n.. note :: We refer to a filtered data as a representation.\n\nAt the beginning this attribute only contains the raw data with the key \"Input\".\n\n"
      ]
    },
    {
      "cell_type": "code",
      "execution_count": null,
      "metadata": {
        "collapsed": false
      },
      "outputs": [],
      "source": [
        "print(task_one_data.processed_representations)"
      ]
    },
    {
      "cell_type": "markdown",
      "metadata": {},
      "source": [
        "## Applying a filter\nThe EMGData object has a method called **apply_filter** that applies a filter to the data.\nFor example, we can apply a 4th order 20 HZ lowpass filter to the data.\n\n"
      ]
    },
    {
      "cell_type": "code",
      "execution_count": null,
      "metadata": {
        "collapsed": false
      },
      "outputs": [],
      "source": [
        "from scipy.signal import butter\nfrom myoverse.datasets.filters.temporal import SOSFrequencyFilter\n\nsos_filter_coefficients = butter(4, 20, \"lowpass\", output=\"sos\", fs=2044)"
      ]
    },
    {
      "cell_type": "markdown",
      "metadata": {},
      "source": [
        "## Creating the filter\nEach filter has a parameter **input_is_chunked** that specifies if the input data is chunked or not.\nThis must be set explicitly as some filters can only be used on either chunked or non-chunked data.\nSince we want to have the result of the filter as an output representation, we set the parameter **is_output** to True.\nFurther having the user specify this parameter forces them to think about the data they are working with.\n\n"
      ]
    },
    {
      "cell_type": "code",
      "execution_count": null,
      "metadata": {
        "collapsed": false
      },
      "outputs": [],
      "source": [
        "lowpass_filter = SOSFrequencyFilter(\n    sos_filter_coefficients, is_output=True, name=\"Lowpass\", input_is_chunked=False\n)\nprint(lowpass_filter)"
      ]
    },
    {
      "cell_type": "markdown",
      "metadata": {},
      "source": [
        "## Applying the filter\nTo apply the filter we call the apply_filter method on the EMGData object.\n\n"
      ]
    },
    {
      "cell_type": "code",
      "execution_count": null,
      "metadata": {
        "collapsed": false
      },
      "outputs": [],
      "source": [
        "task_one_data.apply_filter(\n    lowpass_filter, representation_to_filter=\"Last\"\n)\n\nprint(task_one_data.processed_representations)"
      ]
    },
    {
      "cell_type": "markdown",
      "metadata": {},
      "source": [
        "## Accessing the filtered data\nThe filtered data is saved in the **output_representations** and the **processed_representations** attributes of the EMGData object.\nIn our example the key is \"Lowpass\".\n\nIn case you do not want to index using the filter sequence name, you can retrieve the last processed data by indexing with \"Last\".\n\n"
      ]
    },
    {
      "cell_type": "code",
      "execution_count": null,
      "metadata": {
        "collapsed": false
      },
      "outputs": [],
      "source": [
        "print(task_one_data)\n\nprint(\n    np.allclose(\n        task_one_data.output_representations[\"Lowpass\"],\n        task_one_data[\"Last\"],\n    )\n)"
      ]
    }
  ],
  "metadata": {
    "kernelspec": {
      "display_name": "Python 3",
      "language": "python",
      "name": "python3"
    },
    "language_info": {
      "codemirror_mode": {
        "name": "ipython",
        "version": 3
      },
      "file_extension": ".py",
      "mimetype": "text/x-python",
      "name": "python",
      "nbconvert_exporter": "python",
      "pygments_lexer": "ipython3",
      "version": "3.12.3"
    }
  },
  "nbformat": 4,
  "nbformat_minor": 0
}