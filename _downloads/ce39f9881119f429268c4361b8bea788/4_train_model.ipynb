{
  "cells": [
    {
      "cell_type": "markdown",
      "metadata": {},
      "source": [
        "\n# Training a deep learning model\n\nThis example shows how to train a deep learning model using the dataset created in the previous example.\n"
      ]
    },
    {
      "cell_type": "markdown",
      "metadata": {},
      "source": [
        "## Loading the dataset\nTo load the dataset we need to use the EMGDatasetLoader class.\n\nTwo parameters are required:\n\n- data_path: Path to the dataset file.\n\n- dataloader_parameters: Parameters for the DataLoader.\n\n"
      ]
    },
    {
      "cell_type": "code",
      "execution_count": null,
      "metadata": {
        "collapsed": false
      },
      "outputs": [],
      "source": [
        "from pathlib import Path\nfrom myoverse.datasets.loader import EMGDatasetLoader\n\nloader = EMGDatasetLoader(Path(r\"data/dataset.zarr\").resolve(), dataloader_parameters={\"batch_size\": 16, \"drop_last\": True})"
      ]
    },
    {
      "cell_type": "markdown",
      "metadata": {},
      "source": [
        "## Training the model\n\n"
      ]
    },
    {
      "cell_type": "code",
      "execution_count": null,
      "metadata": {
        "collapsed": false
      },
      "outputs": [],
      "source": [
        "from myoverse.models.definitions.raul_net.online.v16 import RaulNetV16\nimport lightning as L\n\n# Create the model\nmodel = RaulNetV16(\n    learning_rate=1e-4,\n    nr_of_input_channels=2,\n    input_length__samples=192,\n    nr_of_outputs=60,\n    nr_of_electrode_grids=5,\n    nr_of_electrodes_per_grid=64,\n\n    # Multiply following by 4, 8, 16 to have a useful network\n    cnn_encoder_channels=(4, 1, 1),\n    mlp_encoder_channels=(8, 8),\n\n    event_search_kernel_length=31,\n    event_search_kernel_stride=8,\n)\n\ntrainer = L.Trainer(\n    accelerator=\"auto\",\n    devices=1,\n    precision=\"16-mixed\",\n    max_epochs=1,\n    log_every_n_steps=50,\n    logger=None,\n    enable_checkpointing=False,\n    deterministic=False,\n)\n\ntrainer.fit(model, datamodule=loader)"
      ]
    }
  ],
  "metadata": {
    "kernelspec": {
      "display_name": "Python 3",
      "language": "python",
      "name": "python3"
    },
    "language_info": {
      "codemirror_mode": {
        "name": "ipython",
        "version": 3
      },
      "file_extension": ".py",
      "mimetype": "text/x-python",
      "name": "python",
      "nbconvert_exporter": "python",
      "pygments_lexer": "ipython3",
      "version": "3.10.14"
    }
  },
  "nbformat": 4,
  "nbformat_minor": 0
}